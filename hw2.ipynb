{
 "cells": [
  {
   "cell_type": "code",
   "execution_count": 1,
   "metadata": {},
   "outputs": [],
   "source": [
    "# CHANGE THIS IF YOU NEED/WANT TOO\n",
    "\n",
    "# pandas / numpy\n",
    "import pandas as pd\n",
    "import numpy as np\n",
    "\n",
    "# plotting\n",
    "import matplotlib.pyplot as plt\n",
    "import seaborn as sns\n",
    "\n",
    "# datetime operations\n",
    "from datetime import datetime\n",
    "\n",
    "# ttest and euclidean distance\n",
    "from scipy.stats import ttest_ind\n",
    "from scipy.spatial.distance import seuclidean\n",
    "\n",
    "# linear fit using statsmodels\n",
    "import statsmodels.api as sm\n",
    "import statsmodels.formula.api as smf\n",
    "\n",
    "# good ole sklearn\n",
    "from sklearn.metrics import euclidean_distances, r2_score\n",
    "from sklearn.linear_model import LinearRegression\n",
    "from sklearn.ensemble import GradientBoostingRegressor\n",
    "from sklearn.model_selection import cross_validate\n",
    "\n",
    "# displaying markdown strings\n",
    "from IPython.display import display, Markdown, Latex"
   ]
  },
  {
   "cell_type": "markdown",
   "metadata": {
    "pycharm": {
     "name": "#%% md\n"
    }
   },
   "source": [
    "## Part 1: Will this album be a hit?\n",
    "\n",
    "The first project you embark on in your new job is to build a regressor to predict whether an album will be well received or not. According to *Signor Piccardi* (your boss), this algorithm may eventually be helpful in forecasting the success of albums produced by *Piccardi Music*."
   ]
  },
  {
   "cell_type": "markdown",
   "metadata": {},
   "source": [
    "**Task 1 (Initial analyses — 10 pts)**\n",
    "\n",
    "As a good data scientist, the first thing you do is to have a good look at the data that was handed to you.\n",
    "\n",
    "1. Load the data using `pandas`. Identify and remove duplicate reviews, i.e., two reviews with albums by the same band with the same name (keep the first occurrence). Print the number of rows in your dataframe.\n",
    "\n",
    "2. Plot the distribution of album release years and the average score of albums per year.\n",
    "\n",
    "3. For numerical columns, calculate the mean, median, minimum value and maximum value. Additionally, plot the distribution for all the numerical columns in a single image (possibly with multiple subplots). Your image should be at most 14 inches wide by 14 inches long.\n",
    "\n",
    "3. For categorical columns, list how many different values there are in each column. If there are less than 10 distinct values for a category, print them all. For the `genre` column, assign the value `'Other'` for albums where the value is either `'none'` or `NaN`.\n",
    "\n",
    "5. **Discuss:** This dataset was built with *found data*—i.e., the Pitchfork reviews were not made with the goal of training a machine learning model. Grounded on the previous analyses and in Pitchfork's [Wikipedia page](https://en.wikipedia.org/wiki/Pitchfork_(website)), point **three** (exactly!) ways in which this data may not be representative of music albums in general due to the way the data was collected. \n",
    "\n",
    "---"
   ]
  },
  {
   "cell_type": "markdown",
   "metadata": {},
   "source": [
    "**Answer 1.1**"
   ]
  },
  {
   "cell_type": "markdown",
   "metadata": {},
   "source": [
    "First the compressed data file is loaded using Pandas"
   ]
  },
  {
   "cell_type": "code",
   "execution_count": 2,
   "metadata": {
    "scrolled": true
   },
   "outputs": [
    {
     "data": {
      "text/html": [
       "<div>\n",
       "<style scoped>\n",
       "    .dataframe tbody tr th:only-of-type {\n",
       "        vertical-align: middle;\n",
       "    }\n",
       "\n",
       "    .dataframe tbody tr th {\n",
       "        vertical-align: top;\n",
       "    }\n",
       "\n",
       "    .dataframe thead th {\n",
       "        text-align: right;\n",
       "    }\n",
       "</style>\n",
       "<table border=\"1\" class=\"dataframe\">\n",
       "  <thead>\n",
       "    <tr style=\"text-align: right;\">\n",
       "      <th></th>\n",
       "      <th>artist</th>\n",
       "      <th>album</th>\n",
       "      <th>reviewauthor</th>\n",
       "      <th>score</th>\n",
       "      <th>releaseyear</th>\n",
       "      <th>reviewdate</th>\n",
       "      <th>recordlabel</th>\n",
       "      <th>genre</th>\n",
       "      <th>danceability</th>\n",
       "      <th>energy</th>\n",
       "      <th>key</th>\n",
       "      <th>loudness</th>\n",
       "      <th>speechiness</th>\n",
       "      <th>acousticness</th>\n",
       "      <th>instrumentalness</th>\n",
       "      <th>liveness</th>\n",
       "      <th>valence</th>\n",
       "      <th>tempo</th>\n",
       "    </tr>\n",
       "  </thead>\n",
       "  <tbody>\n",
       "    <tr>\n",
       "      <th>0</th>\n",
       "      <td>Studio 1</td>\n",
       "      <td>Studio 1</td>\n",
       "      <td>Andy Battaglia</td>\n",
       "      <td>8.5</td>\n",
       "      <td>2009.0</td>\n",
       "      <td>February 18 2009</td>\n",
       "      <td>Studio</td>\n",
       "      <td>Electronic</td>\n",
       "      <td>0.511917</td>\n",
       "      <td>0.499667</td>\n",
       "      <td>5.250000</td>\n",
       "      <td>-5.626583</td>\n",
       "      <td>0.031983</td>\n",
       "      <td>0.724917</td>\n",
       "      <td>0.024493</td>\n",
       "      <td>0.165367</td>\n",
       "      <td>0.555083</td>\n",
       "      <td>101.395167</td>\n",
       "    </tr>\n",
       "    <tr>\n",
       "      <th>1</th>\n",
       "      <td>John Fahey</td>\n",
       "      <td>The Great Santa Barbara Oil Slick</td>\n",
       "      <td>Mark Richardson</td>\n",
       "      <td>8.2</td>\n",
       "      <td>2005.0</td>\n",
       "      <td>February 13 2005</td>\n",
       "      <td>Water</td>\n",
       "      <td>Folk/Country</td>\n",
       "      <td>0.369765</td>\n",
       "      <td>0.325412</td>\n",
       "      <td>4.470588</td>\n",
       "      <td>-19.153824</td>\n",
       "      <td>0.148624</td>\n",
       "      <td>0.647053</td>\n",
       "      <td>0.559133</td>\n",
       "      <td>0.527782</td>\n",
       "      <td>0.179465</td>\n",
       "      <td>107.622647</td>\n",
       "    </tr>\n",
       "    <tr>\n",
       "      <th>2</th>\n",
       "      <td>Reigning Sound</td>\n",
       "      <td>Too Much Guitar</td>\n",
       "      <td>Stephen M. Deusner</td>\n",
       "      <td>8.3</td>\n",
       "      <td>2004.0</td>\n",
       "      <td>August 19 2004</td>\n",
       "      <td>In the Red</td>\n",
       "      <td>Electronic</td>\n",
       "      <td>0.253943</td>\n",
       "      <td>0.912857</td>\n",
       "      <td>4.428571</td>\n",
       "      <td>-1.089500</td>\n",
       "      <td>0.055500</td>\n",
       "      <td>0.000253</td>\n",
       "      <td>0.751214</td>\n",
       "      <td>0.199071</td>\n",
       "      <td>0.552786</td>\n",
       "      <td>133.895500</td>\n",
       "    </tr>\n",
       "    <tr>\n",
       "      <th>3</th>\n",
       "      <td>The Red Thread</td>\n",
       "      <td>After the Last</td>\n",
       "      <td>Chris Dahlen</td>\n",
       "      <td>7.3</td>\n",
       "      <td>2003.0</td>\n",
       "      <td>July 17 2003</td>\n",
       "      <td>Badman</td>\n",
       "      <td>Rock</td>\n",
       "      <td>0.425400</td>\n",
       "      <td>0.433474</td>\n",
       "      <td>5.700000</td>\n",
       "      <td>-12.871000</td>\n",
       "      <td>0.028260</td>\n",
       "      <td>0.310325</td>\n",
       "      <td>0.224137</td>\n",
       "      <td>0.125150</td>\n",
       "      <td>0.451400</td>\n",
       "      <td>104.354200</td>\n",
       "    </tr>\n",
       "    <tr>\n",
       "      <th>4</th>\n",
       "      <td>Mac Miller</td>\n",
       "      <td>Swimming</td>\n",
       "      <td>Evan Rytlewski</td>\n",
       "      <td>7.5</td>\n",
       "      <td>2018.0</td>\n",
       "      <td>August 3 2018</td>\n",
       "      <td>Warner Bros.</td>\n",
       "      <td>Rap</td>\n",
       "      <td>0.624846</td>\n",
       "      <td>0.438154</td>\n",
       "      <td>4.153846</td>\n",
       "      <td>-9.456077</td>\n",
       "      <td>0.170246</td>\n",
       "      <td>0.652462</td>\n",
       "      <td>0.012819</td>\n",
       "      <td>0.121131</td>\n",
       "      <td>0.281138</td>\n",
       "      <td>122.121308</td>\n",
       "    </tr>\n",
       "  </tbody>\n",
       "</table>\n",
       "</div>"
      ],
      "text/plain": [
       "           artist                              album        reviewauthor  \\\n",
       "0        Studio 1                           Studio 1      Andy Battaglia   \n",
       "1      John Fahey  The Great Santa Barbara Oil Slick     Mark Richardson   \n",
       "2  Reigning Sound                    Too Much Guitar  Stephen M. Deusner   \n",
       "3  The Red Thread                     After the Last        Chris Dahlen   \n",
       "4      Mac Miller                           Swimming      Evan Rytlewski   \n",
       "\n",
       "   score  releaseyear        reviewdate   recordlabel         genre  \\\n",
       "0    8.5       2009.0  February 18 2009        Studio    Electronic   \n",
       "1    8.2       2005.0  February 13 2005         Water  Folk/Country   \n",
       "2    8.3       2004.0    August 19 2004    In the Red    Electronic   \n",
       "3    7.3       2003.0      July 17 2003        Badman          Rock   \n",
       "4    7.5       2018.0     August 3 2018  Warner Bros.           Rap   \n",
       "\n",
       "   danceability    energy       key   loudness  speechiness  acousticness  \\\n",
       "0      0.511917  0.499667  5.250000  -5.626583     0.031983      0.724917   \n",
       "1      0.369765  0.325412  4.470588 -19.153824     0.148624      0.647053   \n",
       "2      0.253943  0.912857  4.428571  -1.089500     0.055500      0.000253   \n",
       "3      0.425400  0.433474  5.700000 -12.871000     0.028260      0.310325   \n",
       "4      0.624846  0.438154  4.153846  -9.456077     0.170246      0.652462   \n",
       "\n",
       "   instrumentalness  liveness   valence       tempo  \n",
       "0          0.024493  0.165367  0.555083  101.395167  \n",
       "1          0.559133  0.527782  0.179465  107.622647  \n",
       "2          0.751214  0.199071  0.552786  133.895500  \n",
       "3          0.224137  0.125150  0.451400  104.354200  \n",
       "4          0.012819  0.121131  0.281138  122.121308  "
      ]
     },
     "execution_count": 2,
     "metadata": {},
     "output_type": "execute_result"
    }
   ],
   "source": [
    "data_folder = './data/'\n",
    "df = pd.read_csv(data_folder + 'pitchfork.csv.gz',compression='gzip')\n",
    "\n",
    "df.head()"
   ]
  },
  {
   "cell_type": "markdown",
   "metadata": {},
   "source": [
    "We count the number of rows before removing duplicates:"
   ]
  },
  {
   "cell_type": "code",
   "execution_count": 3,
   "metadata": {},
   "outputs": [
    {
     "name": "stdout",
     "output_type": "stream",
     "text": [
      "Number of Na values in the dataframe :  0\n",
      "Is the indexing row composed of unique values?  True\n",
      "Number of rows in the data frame before removing duplicates:  16785\n"
     ]
    }
   ],
   "source": [
    "# checking that there are no NaN values\n",
    "print('Number of Na values in the dataframe : ', df.isna().sum().sum())\n",
    "print('Is the indexing row composed of unique values? ', df.index.is_unique)\n",
    "# Since there are no Nan values, we keep all rows, and since every row has a unique index,\n",
    "# The number of rows is equal to the number of indexes\n",
    "row_num = len(df.index)\n",
    "print('Number of rows in the data frame before removing duplicates: ', row_num)"
   ]
  },
  {
   "cell_type": "markdown",
   "metadata": {},
   "source": [
    "We then drop duplicate rows :"
   ]
  },
  {
   "cell_type": "code",
   "execution_count": 4,
   "metadata": {},
   "outputs": [
    {
     "name": "stdout",
     "output_type": "stream",
     "text": [
      "Number of exact duplicates : 1\n"
     ]
    }
   ],
   "source": [
    "exact_duplicates = df.duplicated().sum()\n",
    "print('Number of exact duplicates : %d' % exact_duplicates)\n",
    "df.drop_duplicates(keep='first', inplace=True)\n",
    "row_num = len(df.index)\n",
    "saved_df = df"
   ]
  },
  {
   "cell_type": "markdown",
   "metadata": {},
   "source": [
    "We then check for and drop rows where the artist name is the same as the album name:"
   ]
  },
  {
   "cell_type": "code",
   "execution_count": 5,
   "metadata": {},
   "outputs": [
    {
     "name": "stdout",
     "output_type": "stream",
     "text": [
      "Rows with the same album and artist name : 46\n"
     ]
    }
   ],
   "source": [
    "same_artist_album = df.duplicated(subset=['artist','album']).sum()\n",
    "print('Rows with the same album and artist name : %d' % same_artist_album)\n",
    "df.drop_duplicates(subset=['artist','album'], keep='first', inplace=True)"
   ]
  },
  {
   "cell_type": "code",
   "execution_count": 6,
   "metadata": {},
   "outputs": [
    {
     "name": "stdout",
     "output_type": "stream",
     "text": [
      "Number of deleted rows :  46\n",
      "Number of rows in the data frame after removing duplicates:  16738\n"
     ]
    }
   ],
   "source": [
    "print('Number of deleted rows : ', row_num\n",
    "      - len(df.index))\n",
    "print('Number of rows in the data frame after removing duplicates: ', len(df.index))"
   ]
  },
  {
   "cell_type": "markdown",
   "metadata": {},
   "source": [
    "After removing the duplicate rows we are left with 16738 rows, 46 less rows than the original dataframe."
   ]
  },
  {
   "cell_type": "markdown",
   "metadata": {},
   "source": [
    "**Answer 1.2**"
   ]
  },
  {
   "cell_type": "code",
   "execution_count": 7,
   "metadata": {},
   "outputs": [
    {
     "data": {
      "image/png": "[encoded data removed]",
      "text/plain": [
       "<Figure size 432x288 with 1 Axes>"
      ]
     },
     "metadata": {
      "needs_background": "light"
     },
     "output_type": "display_data"
    }
   ],
   "source": [
    "df['releaseyear'].hist(bins=60)\n",
    "\n",
    "plt.ylabel('Number of albumns released')\n",
    "plt.xlabel('Year')\n",
    "plt.title('Distribution of album release years');"
   ]
  },
  {
   "cell_type": "markdown",
   "metadata": {},
   "source": [
    "To calculate the average score of albums per year, we first group the score per year:"
   ]
  },
  {
   "cell_type": "code",
   "execution_count": 8,
   "metadata": {},
   "outputs": [],
   "source": [
    "scores_grouped_year = df.groupby(df.releaseyear)"
   ]
  },
  {
   "cell_type": "markdown",
   "metadata": {},
   "source": [
    "Then we calculate the mean value of each group (.mean() aggregates the scores by year for us)"
   ]
  },
  {
   "cell_type": "code",
   "execution_count": 9,
   "metadata": {},
   "outputs": [
    {
     "data": {
      "image/png": "[encoded data removed]",
      "text/plain": [
       "<Figure size 432x288 with 1 Axes>"
      ]
     },
     "metadata": {
      "needs_background": "light"
     },
     "output_type": "display_data"
    }
   ],
   "source": [
    "mean_scores_year = scores_grouped_year['score'].mean()\n",
    "mean_scores_year.plot()\n",
    "plt.xlabel('Year')\n",
    "plt.ylabel('Average score')\n",
    "plt.title('Average score of albums per year');\n",
    "plt.show()"
   ]
  },
  {
   "cell_type": "markdown",
   "metadata": {},
   "source": [
    "**Answer 1.3**"
   ]
  },
  {
   "cell_type": "markdown",
   "metadata": {},
   "source": [
    "_For numerical columns, calculate the mean, median, minimum value and maximum value._"
   ]
  },
  {
   "cell_type": "markdown",
   "metadata": {},
   "source": [
    "The numerical columns are : \n",
    "- score\n",
    "- releaseyear\n",
    "- danceability\t\n",
    "- energy\t\n",
    "- key\t\n",
    "- loudness\t\n",
    "- speechiness\t\n",
    "- acousticness\t\n",
    "- instrumentalness\t\n",
    "- liveness\t\n",
    "- valence\t\n",
    "- tempo\t\n",
    "- energy\t\n",
    "\n",
    "\n",
    "After taking only the numerical columns from the dataframe, we use the describe function to return the mean, median minimum and maximum values of each column."
   ]
  },
  {
   "cell_type": "code",
   "execution_count": 10,
   "metadata": {
    "scrolled": true
   },
   "outputs": [
    {
     "data": {
      "text/html": [
       "<div>\n",
       "<style scoped>\n",
       "    .dataframe tbody tr th:only-of-type {\n",
       "        vertical-align: middle;\n",
       "    }\n",
       "\n",
       "    .dataframe tbody tr th {\n",
       "        vertical-align: top;\n",
       "    }\n",
       "\n",
       "    .dataframe thead th {\n",
       "        text-align: right;\n",
       "    }\n",
       "</style>\n",
       "<table border=\"1\" class=\"dataframe\">\n",
       "  <thead>\n",
       "    <tr style=\"text-align: right;\">\n",
       "      <th></th>\n",
       "      <th>score</th>\n",
       "      <th>releaseyear</th>\n",
       "      <th>danceability</th>\n",
       "      <th>energy</th>\n",
       "      <th>key</th>\n",
       "      <th>loudness</th>\n",
       "      <th>speechiness</th>\n",
       "      <th>acousticness</th>\n",
       "      <th>instrumentalness</th>\n",
       "      <th>liveness</th>\n",
       "      <th>valence</th>\n",
       "      <th>tempo</th>\n",
       "      <th>energy</th>\n",
       "      <th>key</th>\n",
       "    </tr>\n",
       "  </thead>\n",
       "  <tbody>\n",
       "    <tr>\n",
       "      <th>mean</th>\n",
       "      <td>7.048596</td>\n",
       "      <td>2009.346338</td>\n",
       "      <td>0.512334</td>\n",
       "      <td>0.601276</td>\n",
       "      <td>5.216501</td>\n",
       "      <td>-9.283268</td>\n",
       "      <td>0.090742</td>\n",
       "      <td>0.301914</td>\n",
       "      <td>0.274748</td>\n",
       "      <td>0.196402</td>\n",
       "      <td>0.405268</td>\n",
       "      <td>120.326487</td>\n",
       "      <td>0.601276</td>\n",
       "      <td>5.216501</td>\n",
       "    </tr>\n",
       "    <tr>\n",
       "      <th>50%</th>\n",
       "      <td>7.300000</td>\n",
       "      <td>2010.000000</td>\n",
       "      <td>0.511348</td>\n",
       "      <td>0.624722</td>\n",
       "      <td>5.230769</td>\n",
       "      <td>-8.444263</td>\n",
       "      <td>0.056665</td>\n",
       "      <td>0.228844</td>\n",
       "      <td>0.149363</td>\n",
       "      <td>0.174261</td>\n",
       "      <td>0.406288</td>\n",
       "      <td>120.397346</td>\n",
       "      <td>0.624722</td>\n",
       "      <td>5.230769</td>\n",
       "    </tr>\n",
       "    <tr>\n",
       "      <th>min</th>\n",
       "      <td>0.000000</td>\n",
       "      <td>1957.000000</td>\n",
       "      <td>-1.000000</td>\n",
       "      <td>-1.000000</td>\n",
       "      <td>-1.000000</td>\n",
       "      <td>-51.728750</td>\n",
       "      <td>-1.000000</td>\n",
       "      <td>-1.000000</td>\n",
       "      <td>-1.000000</td>\n",
       "      <td>-1.000000</td>\n",
       "      <td>-1.000000</td>\n",
       "      <td>-1.000000</td>\n",
       "      <td>-1.000000</td>\n",
       "      <td>-1.000000</td>\n",
       "    </tr>\n",
       "    <tr>\n",
       "      <th>max</th>\n",
       "      <td>10.000000</td>\n",
       "      <td>2019.000000</td>\n",
       "      <td>0.974000</td>\n",
       "      <td>0.999000</td>\n",
       "      <td>11.000000</td>\n",
       "      <td>4.078000</td>\n",
       "      <td>0.958000</td>\n",
       "      <td>0.996000</td>\n",
       "      <td>0.982000</td>\n",
       "      <td>0.978000</td>\n",
       "      <td>0.971000</td>\n",
       "      <td>215.972000</td>\n",
       "      <td>0.999000</td>\n",
       "      <td>11.000000</td>\n",
       "    </tr>\n",
       "  </tbody>\n",
       "</table>\n",
       "</div>"
      ],
      "text/plain": [
       "          score  releaseyear  danceability    energy        key   loudness  \\\n",
       "mean   7.048596  2009.346338      0.512334  0.601276   5.216501  -9.283268   \n",
       "50%    7.300000  2010.000000      0.511348  0.624722   5.230769  -8.444263   \n",
       "min    0.000000  1957.000000     -1.000000 -1.000000  -1.000000 -51.728750   \n",
       "max   10.000000  2019.000000      0.974000  0.999000  11.000000   4.078000   \n",
       "\n",
       "      speechiness  acousticness  instrumentalness  liveness   valence  \\\n",
       "mean     0.090742      0.301914          0.274748  0.196402  0.405268   \n",
       "50%      0.056665      0.228844          0.149363  0.174261  0.406288   \n",
       "min     -1.000000     -1.000000         -1.000000 -1.000000 -1.000000   \n",
       "max      0.958000      0.996000          0.982000  0.978000  0.971000   \n",
       "\n",
       "           tempo    energy        key  \n",
       "mean  120.326487  0.601276   5.216501  \n",
       "50%   120.397346  0.624722   5.230769  \n",
       "min    -1.000000 -1.000000  -1.000000  \n",
       "max   215.972000  0.999000  11.000000  "
      ]
     },
     "execution_count": 10,
     "metadata": {},
     "output_type": "execute_result"
    }
   ],
   "source": [
    "numerical_columns = ['score', 'releaseyear', 'danceability', 'energy', 'key',\n",
    "                     'loudness', 'speechiness', 'acousticness', 'instrumentalness',\n",
    "                     'liveness', 'valence', 'tempo', 'energy', 'key']\n",
    "\n",
    "df[numerical_columns].describe().loc[['mean','50%','min','max']]"
   ]
  },
  {
   "cell_type": "markdown",
   "metadata": {},
   "source": [
    "_Additionally, plot the distribution for all the numerical columns in a single image (possibly with multiple subplots). Your image should be at most 14 inches wide by 14 inches long._"
   ]
  },
  {
   "cell_type": "code",
   "execution_count": 11,
   "metadata": {},
   "outputs": [],
   "source": [
    "import math\n",
    "# we import math because we will use the floor function to calculate the index that will be plugged into a plot axes \n",
    "# to plot the numerical column distributions"
   ]
  },
  {
   "cell_type": "code",
   "execution_count": 12,
   "metadata": {},
   "outputs": [
    {
     "data": {
      "image/png": "[encoded data removed]",
      "text/plain": [
       "<Figure size 1008x1008 with 13 Axes>"
      ]
     },
     "metadata": {
      "needs_background": "light"
     },
     "output_type": "display_data"
    }
   ],
   "source": [
    "fig, ax = plt.subplots(4,4, figsize= (14,14)) # matplotlib's default unit is inches\n",
    "\n",
    "for i in range(13):\n",
    "    sbplt = ax[math.floor(i/4) , i%4]\n",
    "    sbplt.hist(df[numerical_columns[i]],bins = 60)\n",
    "    sbplt.set_title(numerical_columns[i])\n",
    "    if (numerical_columns[i] == 'danceability'):\n",
    "        sbplt.set_xlim(0, 1)\n",
    "    if (numerical_columns[i] == 'speechiness'):\n",
    "        sbplt.set_xlim(0, 0.5)\n",
    "    if (numerical_columns[i] == 'acousticness'):\n",
    "        sbplt.set_xlim(0, 1)\n",
    "    if (numerical_columns[i] == 'loudness'):\n",
    "        sbplt.set_xlim(-40, 0)\n",
    "    if (numerical_columns[i] == 'instrumentalness'):\n",
    "        sbplt.set_xlim(0, 1) \n",
    "    if (numerical_columns[i] == 'liveness'):\n",
    "        sbplt.set_xlim(0, 1)    \n",
    "    if (numerical_columns[i] == 'valence'):\n",
    "        sbplt.set_xlim(0, 1)   \n",
    "    #if (numerical_columns[i] == 'tempo'):\n",
    "        #sbplt.set_xlim(0, 1)   \n",
    "    if (numerical_columns[i] == 'energy'):\n",
    "        sbplt.set_xlim(0, 1)   \n",
    "\n",
    "fig.text(0.5,0, \"Numerical value\", fontsize=12)\n",
    "fig.text(0,0.5, \"Number of occurences\", rotation = 90, fontsize=12)\n",
    "\n",
    "fig.suptitle('Distributions of all the numerical columns', fontsize=16)\n",
    "\n",
    "# here we remove the last 4 empty subplot since we only have 21 plots\n",
    "for i in range(13,16):\n",
    "    fig.delaxes(ax[math.floor(i/4) , i%4])\n",
    "\n",
    "# so that the titles aren't superimposed\n",
    "plt.tight_layout()"
   ]
  },
  {
   "cell_type": "markdown",
   "metadata": {},
   "source": [
    "**Answer 1.4**"
   ]
  },
  {
   "cell_type": "markdown",
   "metadata": {},
   "source": [
    "_For categorical columns, list how many different values there are in each column. If there are less than 10 distinct values for a category, print them all. For the genre column, assign the value 'Other' for albums where the value is either 'none' or NaN._"
   ]
  },
  {
   "cell_type": "markdown",
   "metadata": {},
   "source": [
    "The expression\n",
    "```python \n",
    "(df['genre'].str.contains('none') | df['genre'].isna())\n",
    "```\n",
    "checks for cells which contain the string 'none' or a NaN value, then the cell is replaced with 'Other', `.loc` is used to avoid chain indexing"
   ]
  },
  {
   "cell_type": "code",
   "execution_count": 13,
   "metadata": {},
   "outputs": [],
   "source": [
    "df.loc[(df['genre'].str.contains('none') | df['genre'].isna()), 'genre'] = 'Other'"
   ]
  },
  {
   "cell_type": "markdown",
   "metadata": {},
   "source": [
    "The categorical columns are : \n",
    "- artist\n",
    "- album\n",
    "- reviewauthor\n",
    "- recordlabel\n",
    "- genre"
   ]
  },
  {
   "cell_type": "markdown",
   "metadata": {},
   "source": [
    "Here we display the number of unique values in our categorical columns"
   ]
  },
  {
   "cell_type": "code",
   "execution_count": 14,
   "metadata": {
    "scrolled": true
   },
   "outputs": [
    {
     "data": {
      "text/plain": [
       "artist           7892\n",
       "album           16183\n",
       "reviewauthor      554\n",
       "recordlabel      3032\n",
       "genre              10\n",
       "dtype: int64"
      ]
     },
     "execution_count": 14,
     "metadata": {},
     "output_type": "execute_result"
    }
   ],
   "source": [
    "df[['artist', 'album', 'reviewauthor', 'recordlabel', 'genre']].nunique()"
   ]
  },
  {
   "cell_type": "markdown",
   "metadata": {},
   "source": [
    "Since the genre columns only contains 10 unique values we display them all"
   ]
  },
  {
   "cell_type": "code",
   "execution_count": 15,
   "metadata": {},
   "outputs": [
    {
     "data": {
      "text/plain": [
       "array(['Electronic', 'Folk/Country', 'Rock', 'Rap', 'Global',\n",
       "       'Experimental', 'Metal', 'Pop/R&B', 'Jazz', 'Other'], dtype=object)"
      ]
     },
     "execution_count": 15,
     "metadata": {},
     "output_type": "execute_result"
    }
   ],
   "source": [
    "df['genre'].unique()"
   ]
  },
  {
   "cell_type": "markdown",
   "metadata": {},
   "source": [
    "**Answer 1.5 : Discuss** _This dataset was built with found data—i.e., the Pitchfork reviews were not made with the goal of training a machine learning model. Grounded on the previous analyses and in Pitchfork's Wikipedia page, point three (exactly!) ways in which this data may not be representative of music albums in general due to the way the data was collected._"
   ]
  },
  {
   "cell_type": "markdown",
   "metadata": {},
   "source": [
    "There are multiple ways in which this data may not be representative of music albums in general : \n",
    "- According to the Pitchfork's wikipedia page when they started out most of their music was of the genre Indie Rock. Since a machine learning model's generalizing ability will depend a lot waht's in the dataset it would be better if the Dataset is more varied, as in contained a lot of different genres ( or in other words that the data-set it balanced).\n",
    "\n",
    "- Also the reviews depend probably on the time at which the reviews were done, and in the dataset it would seem like most of the reviews have been done a long time after the production of the albums . Looking at the distributions we plotted above, it seems like, for example there are more albums that are \"lively\"). This could skew the results in a certain way if for example ablums from a period have been review during another period where people generally had the same opinion on the album.\n",
    "\n",
    "- The dataset has been made in the US and contains mostly albums from there. Therefore it is unadapted to predict albums score from other areas of the world."
   ]
  },
  {
   "cell_type": "markdown",
   "metadata": {
    "pycharm": {
     "name": "#%% md\n"
    }
   },
   "source": [
    "#### **Task 2 (Pre-processing and pipeline code — 12 pts)**\n",
    "\n",
    "Next, you decide to prepare the code that will help you in training your machine learning models. Also, you implement a simple baseline. For this task, **unless otherwise stated** you must implement functions yourself, instead of relying on `scikit-learn` (you can use `numpy` or `pandas`, though!).\n",
    "\n",
    "1. For each possible value in the `genre` column, create a new column called `{genre}_onehot` (e.g., for `genre=jazz`, create `jazz_onehot`). Collectively, these new columns should \"one hot-encode\" the genre column—for instance, if for a given album the `genre` is filled with the value `jazz`, the `jazz_onehot` column should equal 1 and all other `{genre}_onehot` columns should equal 0. \n",
    "\n",
    "2. Create a function `numpy_helper(df, cols)` to obtain a `numpy.array` out of your `dataframe`. The function should receive a dataframe `df` with N rows and a list of M columns `cols`, and should return a `np.array` of dimension (NxM).\n",
    "\n",
    "3. For each album, build an array of features `X` containing all genre-related one-hot features, and an array of outcomes `y` containing scores. Using the function [`sklearn.model_selection.train_test_split`](https://scikit-learn.org/stable/modules/generated/sklearn.model_selection.train_test_split.html) with `random_state=123`, split the data into a train set containing 70% of all data, and a test set containing the remaining 30%.\n",
    "\n",
    "4. Create your own baseline regressor. Using the training data (in the training stage), your regressor should estimate the average score for all albums. Then, for the test data (in the prediction stage), your classifier should always output the average score (computed on the training data).\n",
    "\n",
    "5. Calculate the [coefficient of determination ($R^2$)](https://scikit-learn.org/stable/modules/generated/sklearn.metrics.r2_score.html) of your baseline on the test data. **You are allowed to use the `sklearn` implementation here.**\n",
    "\n",
    "6. **Discuss:** Your train-test split randomly selected 70% of all data for the training set. Why is this a problem for the broader task of predicting whether a future album will be successful or not?\n",
    "\n",
    "---"
   ]
  },
  {
   "cell_type": "markdown",
   "metadata": {},
   "source": [
    "**Answer 2.1**"
   ]
  },
  {
   "cell_type": "markdown",
   "metadata": {},
   "source": [
    "The function get_dummies is use to create the one hot labels for the genre categories, and then add_suffix is used to rename the columnse to `{genre}_onehot`. The columns are then added into the dataframe, and the old 'genre' row is dropped, since all the information it contains is in the one_hot encodings."
   ]
  },
  {
   "cell_type": "code",
   "execution_count": 16,
   "metadata": {},
   "outputs": [],
   "source": [
    "onehot_columns = pd.get_dummies(df['genre']).add_suffix('_onehot').copy()"
   ]
  },
  {
   "cell_type": "code",
   "execution_count": 17,
   "metadata": {},
   "outputs": [
    {
     "data": {
      "text/html": [
       "<div>\n",
       "<style scoped>\n",
       "    .dataframe tbody tr th:only-of-type {\n",
       "        vertical-align: middle;\n",
       "    }\n",
       "\n",
       "    .dataframe tbody tr th {\n",
       "        vertical-align: top;\n",
       "    }\n",
       "\n",
       "    .dataframe thead th {\n",
       "        text-align: right;\n",
       "    }\n",
       "</style>\n",
       "<table border=\"1\" class=\"dataframe\">\n",
       "  <thead>\n",
       "    <tr style=\"text-align: right;\">\n",
       "      <th></th>\n",
       "      <th>artist</th>\n",
       "      <th>album</th>\n",
       "      <th>reviewauthor</th>\n",
       "      <th>score</th>\n",
       "      <th>releaseyear</th>\n",
       "      <th>reviewdate</th>\n",
       "      <th>recordlabel</th>\n",
       "      <th>danceability</th>\n",
       "      <th>energy</th>\n",
       "      <th>key</th>\n",
       "      <th>...</th>\n",
       "      <th>Electronic_onehot</th>\n",
       "      <th>Experimental_onehot</th>\n",
       "      <th>Folk/Country_onehot</th>\n",
       "      <th>Global_onehot</th>\n",
       "      <th>Jazz_onehot</th>\n",
       "      <th>Metal_onehot</th>\n",
       "      <th>Other_onehot</th>\n",
       "      <th>Pop/R&amp;B_onehot</th>\n",
       "      <th>Rap_onehot</th>\n",
       "      <th>Rock_onehot</th>\n",
       "    </tr>\n",
       "  </thead>\n",
       "  <tbody>\n",
       "    <tr>\n",
       "      <th>0</th>\n",
       "      <td>Studio 1</td>\n",
       "      <td>Studio 1</td>\n",
       "      <td>Andy Battaglia</td>\n",
       "      <td>8.5</td>\n",
       "      <td>2009.0</td>\n",
       "      <td>February 18 2009</td>\n",
       "      <td>Studio</td>\n",
       "      <td>0.511917</td>\n",
       "      <td>0.499667</td>\n",
       "      <td>5.250000</td>\n",
       "      <td>...</td>\n",
       "      <td>1</td>\n",
       "      <td>0</td>\n",
       "      <td>0</td>\n",
       "      <td>0</td>\n",
       "      <td>0</td>\n",
       "      <td>0</td>\n",
       "      <td>0</td>\n",
       "      <td>0</td>\n",
       "      <td>0</td>\n",
       "      <td>0</td>\n",
       "    </tr>\n",
       "    <tr>\n",
       "      <th>1</th>\n",
       "      <td>John Fahey</td>\n",
       "      <td>The Great Santa Barbara Oil Slick</td>\n",
       "      <td>Mark Richardson</td>\n",
       "      <td>8.2</td>\n",
       "      <td>2005.0</td>\n",
       "      <td>February 13 2005</td>\n",
       "      <td>Water</td>\n",
       "      <td>0.369765</td>\n",
       "      <td>0.325412</td>\n",
       "      <td>4.470588</td>\n",
       "      <td>...</td>\n",
       "      <td>0</td>\n",
       "      <td>0</td>\n",
       "      <td>1</td>\n",
       "      <td>0</td>\n",
       "      <td>0</td>\n",
       "      <td>0</td>\n",
       "      <td>0</td>\n",
       "      <td>0</td>\n",
       "      <td>0</td>\n",
       "      <td>0</td>\n",
       "    </tr>\n",
       "    <tr>\n",
       "      <th>2</th>\n",
       "      <td>Reigning Sound</td>\n",
       "      <td>Too Much Guitar</td>\n",
       "      <td>Stephen M. Deusner</td>\n",
       "      <td>8.3</td>\n",
       "      <td>2004.0</td>\n",
       "      <td>August 19 2004</td>\n",
       "      <td>In the Red</td>\n",
       "      <td>0.253943</td>\n",
       "      <td>0.912857</td>\n",
       "      <td>4.428571</td>\n",
       "      <td>...</td>\n",
       "      <td>1</td>\n",
       "      <td>0</td>\n",
       "      <td>0</td>\n",
       "      <td>0</td>\n",
       "      <td>0</td>\n",
       "      <td>0</td>\n",
       "      <td>0</td>\n",
       "      <td>0</td>\n",
       "      <td>0</td>\n",
       "      <td>0</td>\n",
       "    </tr>\n",
       "    <tr>\n",
       "      <th>3</th>\n",
       "      <td>The Red Thread</td>\n",
       "      <td>After the Last</td>\n",
       "      <td>Chris Dahlen</td>\n",
       "      <td>7.3</td>\n",
       "      <td>2003.0</td>\n",
       "      <td>July 17 2003</td>\n",
       "      <td>Badman</td>\n",
       "      <td>0.425400</td>\n",
       "      <td>0.433474</td>\n",
       "      <td>5.700000</td>\n",
       "      <td>...</td>\n",
       "      <td>0</td>\n",
       "      <td>0</td>\n",
       "      <td>0</td>\n",
       "      <td>0</td>\n",
       "      <td>0</td>\n",
       "      <td>0</td>\n",
       "      <td>0</td>\n",
       "      <td>0</td>\n",
       "      <td>0</td>\n",
       "      <td>1</td>\n",
       "    </tr>\n",
       "    <tr>\n",
       "      <th>4</th>\n",
       "      <td>Mac Miller</td>\n",
       "      <td>Swimming</td>\n",
       "      <td>Evan Rytlewski</td>\n",
       "      <td>7.5</td>\n",
       "      <td>2018.0</td>\n",
       "      <td>August 3 2018</td>\n",
       "      <td>Warner Bros.</td>\n",
       "      <td>0.624846</td>\n",
       "      <td>0.438154</td>\n",
       "      <td>4.153846</td>\n",
       "      <td>...</td>\n",
       "      <td>0</td>\n",
       "      <td>0</td>\n",
       "      <td>0</td>\n",
       "      <td>0</td>\n",
       "      <td>0</td>\n",
       "      <td>0</td>\n",
       "      <td>0</td>\n",
       "      <td>0</td>\n",
       "      <td>1</td>\n",
       "      <td>0</td>\n",
       "    </tr>\n",
       "  </tbody>\n",
       "</table>\n",
       "<p>5 rows × 27 columns</p>\n",
       "</div>"
      ],
      "text/plain": [
       "           artist                              album        reviewauthor  \\\n",
       "0        Studio 1                           Studio 1      Andy Battaglia   \n",
       "1      John Fahey  The Great Santa Barbara Oil Slick     Mark Richardson   \n",
       "2  Reigning Sound                    Too Much Guitar  Stephen M. Deusner   \n",
       "3  The Red Thread                     After the Last        Chris Dahlen   \n",
       "4      Mac Miller                           Swimming      Evan Rytlewski   \n",
       "\n",
       "   score  releaseyear        reviewdate   recordlabel  danceability    energy  \\\n",
       "0    8.5       2009.0  February 18 2009        Studio      0.511917  0.499667   \n",
       "1    8.2       2005.0  February 13 2005         Water      0.369765  0.325412   \n",
       "2    8.3       2004.0    August 19 2004    In the Red      0.253943  0.912857   \n",
       "3    7.3       2003.0      July 17 2003        Badman      0.425400  0.433474   \n",
       "4    7.5       2018.0     August 3 2018  Warner Bros.      0.624846  0.438154   \n",
       "\n",
       "        key  ...  Electronic_onehot  Experimental_onehot  Folk/Country_onehot  \\\n",
       "0  5.250000  ...                  1                    0                    0   \n",
       "1  4.470588  ...                  0                    0                    1   \n",
       "2  4.428571  ...                  1                    0                    0   \n",
       "3  5.700000  ...                  0                    0                    0   \n",
       "4  4.153846  ...                  0                    0                    0   \n",
       "\n",
       "   Global_onehot  Jazz_onehot  Metal_onehot  Other_onehot  Pop/R&B_onehot  \\\n",
       "0              0            0             0             0               0   \n",
       "1              0            0             0             0               0   \n",
       "2              0            0             0             0               0   \n",
       "3              0            0             0             0               0   \n",
       "4              0            0             0             0               0   \n",
       "\n",
       "   Rap_onehot  Rock_onehot  \n",
       "0           0            0  \n",
       "1           0            0  \n",
       "2           0            0  \n",
       "3           0            1  \n",
       "4           1            0  \n",
       "\n",
       "[5 rows x 27 columns]"
      ]
     },
     "execution_count": 17,
     "metadata": {},
     "output_type": "execute_result"
    }
   ],
   "source": [
    "df[onehot_columns.columns] = onehot_columns\n",
    "df.drop(columns=['genre'],inplace=True)\n",
    "df.head()"
   ]
  },
  {
   "cell_type": "code",
   "execution_count": 18,
   "metadata": {},
   "outputs": [
    {
     "name": "stdout",
     "output_type": "stream",
     "text": [
      "16738\n",
      "16738\n"
     ]
    }
   ],
   "source": [
    "# sanity check : checking if there is indeed only one genre per row\n",
    "print(len(onehot_columns.index))\n",
    "print(onehot_columns.sum(axis=1).sum())"
   ]
  },
  {
   "cell_type": "markdown",
   "metadata": {},
   "source": [
    "**Answer 2.2**"
   ]
  },
  {
   "cell_type": "code",
   "execution_count": 19,
   "metadata": {},
   "outputs": [],
   "source": [
    "def numpy_helper(df, cols):\n",
    "    '''\n",
    "    Receives a dataframe df with N rows and a list of M columns cols,\n",
    "    and returns a np.array of dimension (NxM)\n",
    "    Input:\n",
    "    - df (pd.DataFrame) :\n",
    "    - cols : (list) list of M columns\n",
    "    Output:\n",
    "    - np_array (np.array) : numpy array \n",
    "    '''\n",
    "    np_array = df[cols].to_numpy(copy=True)\n",
    "    return np_array"
   ]
  },
  {
   "cell_type": "code",
   "execution_count": 20,
   "metadata": {},
   "outputs": [
    {
     "name": "stdout",
     "output_type": "stream",
     "text": [
      "<class 'numpy.ndarray'>\n",
      "[['Studio 1' 'Studio 1' 'Andy Battaglia']\n",
      " ['John Fahey' 'The Great Santa Barbara Oil Slick' 'Mark Richardson']\n",
      " ['Reigning Sound' 'Too Much Guitar' 'Stephen M. Deusner']\n",
      " ...\n",
      " ['Mavis Staples' 'We Get By' 'Stephen M. Deusner']\n",
      " ['Amyl and the Sniffers' 'Amyl and the Sniffers'\n",
      "  'Stephen Thomas Erlewine']\n",
      " ['D√¢m-Funk' 'STFU II EP' 'Jonah Bromwich']]\n"
     ]
    }
   ],
   "source": [
    "test = numpy_helper(df, ['artist','album','reviewauthor'])\n",
    "print(type(test))\n",
    "print(test)"
   ]
  },
  {
   "cell_type": "markdown",
   "metadata": {},
   "source": [
    "**Answer 2.3**"
   ]
  },
  {
   "cell_type": "markdown",
   "metadata": {},
   "source": [
    "_For each album, build an array of features X containing all genre-related one-hot features, and an array of outcomes y containing scores. Using the function sklearn.model_selection.train_test_split with random_state=123, split the data into a train set containing 70% of all data, and a test set containing the remaining 30%_"
   ]
  },
  {
   "cell_type": "markdown",
   "metadata": {},
   "source": [
    "```python\n",
    "df[np.append('album',onehot_columns.columns.values)] \n",
    "```\n",
    "takes only the columns that interest us for this part"
   ]
  },
  {
   "cell_type": "code",
   "execution_count": 21,
   "metadata": {
    "scrolled": true
   },
   "outputs": [
    {
     "data": {
      "text/plain": [
       "array([[1, 0, 0, ..., 0, 0, 0],\n",
       "       [0, 0, 1, ..., 0, 0, 0],\n",
       "       [1, 0, 0, ..., 0, 0, 0],\n",
       "       ...,\n",
       "       [0, 0, 0, ..., 1, 0, 0],\n",
       "       [0, 0, 0, ..., 0, 0, 1],\n",
       "       [0, 0, 0, ..., 1, 0, 0]], dtype=uint8)"
      ]
     },
     "execution_count": 21,
     "metadata": {},
     "output_type": "execute_result"
    }
   ],
   "source": [
    "X = numpy_helper(df, cols = onehot_columns.columns.values)\n",
    "X"
   ]
  },
  {
   "cell_type": "code",
   "execution_count": 22,
   "metadata": {},
   "outputs": [
    {
     "data": {
      "text/plain": [
       "array([8.5, 8.2, 8.3, ..., 7.5, 7.2, 7.1])"
      ]
     },
     "execution_count": 22,
     "metadata": {},
     "output_type": "execute_result"
    }
   ],
   "source": [
    "Y = numpy_helper(df, cols = 'score')\n",
    "Y"
   ]
  },
  {
   "cell_type": "code",
   "execution_count": 23,
   "metadata": {},
   "outputs": [],
   "source": [
    "from sklearn.model_selection import train_test_split"
   ]
  },
  {
   "cell_type": "code",
   "execution_count": 24,
   "metadata": {},
   "outputs": [],
   "source": [
    "X_train, X_test, y_train, y_test = train_test_split(X,Y, test_size=0.3, random_state=123, shuffle=True, stratify=None)"
   ]
  },
  {
   "cell_type": "code",
   "execution_count": 25,
   "metadata": {},
   "outputs": [
    {
     "name": "stdout",
     "output_type": "stream",
     "text": [
      "(11716, 10)\n",
      "(5022, 10)\n",
      "(11716,)\n",
      "(5022,)\n"
     ]
    }
   ],
   "source": [
    "print(X_train.shape)\n",
    "print(X_test.shape)\n",
    "print(y_train.shape)\n",
    "print(y_test.shape)"
   ]
  },
  {
   "cell_type": "markdown",
   "metadata": {},
   "source": [
    "**Answer 2.4**"
   ]
  },
  {
   "cell_type": "markdown",
   "metadata": {},
   "source": [
    "_Create your own baseline regressor. Using the training data (in the training stage), your regressor should estimate the average score for all albums. Then, for the test data (in the prediction stage), your classifier should always output the average score (computed on the training data)._"
   ]
  },
  {
   "cell_type": "code",
   "execution_count": 26,
   "metadata": {},
   "outputs": [],
   "source": [
    "def baseline_regressor(y_train,y_test):\n",
    "    '''\n",
    "    Estimates the average score for all albums using training data, \n",
    "    and for the test phase always outpus average score\n",
    "    input:\n",
    "    y_train (np.array) : array containing the scores for the training sampes\n",
    "    output:\n",
    "    y_predicted (np.array) : array containing the prediction\n",
    "    '''\n",
    "    y_predicted = np.mean(y_train)*np.ones(len(y_test))\n",
    "    return y_predicted"
   ]
  },
  {
   "cell_type": "code",
   "execution_count": 27,
   "metadata": {},
   "outputs": [
    {
     "data": {
      "text/plain": [
       "array([7.04511779, 7.04511779, 7.04511779, ..., 7.04511779, 7.04511779,\n",
       "       7.04511779])"
      ]
     },
     "execution_count": 27,
     "metadata": {},
     "output_type": "execute_result"
    }
   ],
   "source": [
    "y_predicted = baseline_regressor(y_train,y_test)\n",
    "y_predicted"
   ]
  },
  {
   "cell_type": "markdown",
   "metadata": {},
   "source": [
    "**Answer 2.5**"
   ]
  },
  {
   "cell_type": "markdown",
   "metadata": {},
   "source": [
    "_Calculate the coefficient of determination ( 𝑅2 ) of your baseline on the test data. You are allowed to use the sklearn implementation here._"
   ]
  },
  {
   "cell_type": "code",
   "execution_count": 28,
   "metadata": {},
   "outputs": [],
   "source": [
    "from sklearn.metrics import r2_score"
   ]
  },
  {
   "cell_type": "code",
   "execution_count": 29,
   "metadata": {},
   "outputs": [
    {
     "data": {
      "text/plain": [
       "-8.75891503990811e-05"
      ]
     },
     "execution_count": 29,
     "metadata": {},
     "output_type": "execute_result"
    }
   ],
   "source": [
    "r2_score(y_test, y_predicted, multioutput='uniform_average')"
   ]
  },
  {
   "cell_type": "markdown",
   "metadata": {},
   "source": [
    "**Answer 2.6 : Discuss**"
   ]
  },
  {
   "cell_type": "markdown",
   "metadata": {},
   "source": [
    "_Discuss: Your train-test split randomly selected 70% of all data for the training set. Why is this a problem for the broader task of predicting whether a future album will be successful or not?_"
   ]
  },
  {
   "cell_type": "markdown",
   "metadata": {},
   "source": [
    "Since the train-test was split **randomly**, the train and test contain albums with random dates. What we should have is a training set containing \"older\" albums, and a test set containg only albums that were created after the training set albums. That way when we evaluate the model we will evaluate it's ability to predict if a _**future**_ album will be successful, and not just if an old album was successful or not."
   ]
  },
  {
   "cell_type": "markdown",
   "metadata": {},
   "source": [
    "**Task 3 (Regression — 14 pts)**\n",
    "\n",
    "Finally, you get down to business and train your regression models.\n",
    "\n",
    "1. Build a Linear Regression model (use `sklearn`) that predicts the outcome `score` using the features \"releaseyear\",  \"key\", \"acousticness\", \"danceability\", \"energy\", \"instrumentalness\", \"liveness\", \"loudness\", \"speechiness\", \"valence\", \"tempo\" and the one-hot encoded genre-related columns.  Using a 70/30 train-test split similar to what you did in task two (hereinafter referred to as \"the random split\", use the same random seed, `random_state=123`), report the $R^2$ for the testing set.\n",
    "\n",
    "2. Create an alternate train-test split (hereinafter referred to as \"the longitudinal split\") where you train with data from albums released before 2000 and test with data from 2003 and after. Report the $R^2$ for the testing set using the same model you developed for the previous question. **Discuss:** give the correct interpretation of $R^2$ value for the longitudinal split.\n",
    "\n",
    "3. For a given entry $X$ your model outputs a predicted score $Y'$. The difference between the real score $Y$ and the predicted score $Y'$ is called the \"residual\". Considering the model trained in 3.2, plot the distribution of your residuals for the test set. Additionally, estimate what is the probability that your score prediction (from 3.2) is off by more than 2-points? Provide bootstrapped confidence intervals for your answer.\n",
    "\n",
    "4. Experiment with training a different regressor, a Gradient Boosting Regressor. This regressor is related to the Boosted decision trees that you have seen in class. This model performs extremely well for a variety of tasks and is often used in machine learning competitions for tabular data (e.g., on Kaggle). Train the regressor using the longitudinal split and the same features as in 3.2, use the default hyperparameters. Report the $R^2$ for the testing set. \n",
    "\n",
    "5. **Discuss:** Hypothesize a reason for the difference in performance between the Linear regression and the Gradient Boosting Regressor.\n",
    "\n",
    "---"
   ]
  },
  {
   "cell_type": "markdown",
   "metadata": {},
   "source": [
    "**Answer 3.1**"
   ]
  },
  {
   "cell_type": "code",
   "execution_count": 30,
   "metadata": {},
   "outputs": [
    {
     "data": {
      "text/plain": [
       "0.04419659171609447"
      ]
     },
     "execution_count": 30,
     "metadata": {},
     "output_type": "execute_result"
    }
   ],
   "source": [
    "# Generating in numpy the dataset and the labels\n",
    "features = [\"releaseyear\", \"key\", \"acousticness\", \"danceability\", \"energy\", \"instrumentalness\", \\\n",
    "            \"liveness\", \"loudness\", \"speechiness\", \"valence\", \"tempo\"] + list(onehot_columns.columns.values)\n",
    "X = numpy_helper(df, cols = features)\n",
    "Y = numpy_helper(df, cols = 'score')\n",
    "\n",
    "# Splitting the dataset\n",
    "X_train, X_test, y_train, y_test = train_test_split(X,Y, test_size=0.3, random_state=123, shuffle=True, stratify=None)\n",
    "\n",
    "# Compute the predictions using Linear Regression\n",
    "lin_reg = LinearRegression()\n",
    "lin_reg.fit(X_train, y_train)  # train it\n",
    "y_predicted = lin_reg.predict(X_test)\n",
    "\n",
    "# Compute R^2\n",
    "r2_score(y_test, y_predicted)"
   ]
  },
  {
   "cell_type": "markdown",
   "metadata": {},
   "source": [
    "Using those features the Linear Model could only explain about 4% of the variance of the score of an album..."
   ]
  },
  {
   "cell_type": "markdown",
   "metadata": {},
   "source": [
    "**Answer 3.2**"
   ]
  },
  {
   "cell_type": "code",
   "execution_count": 31,
   "metadata": {},
   "outputs": [
    {
     "name": "stdout",
     "output_type": "stream",
     "text": [
      "-0.2832151171710233\n"
     ]
    }
   ],
   "source": [
    "def longitudinal_split(df):\n",
    "    before_2000 = df[df[\"releaseyear\"] < 2000]\n",
    "    after_2003 = df[df[\"releaseyear\"] >= 2003]\n",
    "\n",
    "    X_train = numpy_helper(before_2000, cols = features)\n",
    "    y_train = numpy_helper(before_2000, cols = 'score')\n",
    "    X_test = numpy_helper(after_2003, cols = features)\n",
    "    y_test = numpy_helper(after_2003, cols = 'score')\n",
    "    \n",
    "    return X_train , y_train, X_test, y_test\n",
    "\n",
    "# Computing the predictions for the Linear Regression using a longitudinal split of the data\n",
    "# Returns the predicted scores along with the corresponding true scores\n",
    "\n",
    "def longitudinal_predict (df):\n",
    "    # Longitudinal Split of the data\n",
    "    X_train , y_train, X_test, y_test = longitudinal_split(df)\n",
    "    # Compute the predictions using Linear Regression\n",
    "    lin_reg = LinearRegression()\n",
    "    lin_reg.fit(X_train, y_train)  # train it\n",
    "    y_predicted = lin_reg.predict(X_test) # Compute the predictions\n",
    "\n",
    "    return y_test, y_predicted\n",
    "\n",
    "# Compute R^2 (using a longitudinal split of the data)\n",
    "y_test, y_predicted = longitudinal_predict(df)\n",
    "print(r2_score(y_test, y_predicted))"
   ]
  },
  {
   "cell_type": "markdown",
   "metadata": {},
   "source": [
    "**Answer 3.3**"
   ]
  },
  {
   "cell_type": "code",
   "execution_count": 32,
   "metadata": {},
   "outputs": [
    {
     "data": {
      "image/png": "[encoded data removed]",
      "text/plain": [
       "<Figure size 432x288 with 1 Axes>"
      ]
     },
     "metadata": {
      "needs_background": "light"
     },
     "output_type": "display_data"
    }
   ],
   "source": [
    "# Plotting the residual\n",
    "e = y_test - y_predicted #The residual\n",
    "plt.hist(e, bins=60)\n",
    "plt.title(\"Distribution of the residual\")\n",
    "plt.xlabel(\"value of the residual\")\n",
    "plt.ylabel(\"frequence of the value\")\n",
    "plt.show()"
   ]
  },
  {
   "cell_type": "code",
   "execution_count": 33,
   "metadata": {},
   "outputs": [],
   "source": [
    "# Estimating the probability for the score to be off by more than 2 points using bootstrapping strategy\n",
    "\n",
    "nbr_draws = 1000 # number of random samples\n",
    "proba_off_2_points = np.zeros(nbr_draws) # residuals estimated for each sample\n",
    "\n",
    "for n in range(nbr_draws):\n",
    "    # Sampling\n",
    "    indices = np.random.randint(0, len(df), len(df))\n",
    "    df_tmp = df.iloc[indices]\n",
    "    # for each sample, we estimate the residual using a longitudinal split (cf 3.2)\n",
    "    score_test, score_predicted = longitudinal_predict(df_tmp)\n",
    "    abs_residuals = np.abs(score_test - score_predicted)\n",
    "    proba_off_2_points[n] = sum(abs_residuals >= 2) / len(abs_residuals)"
   ]
  },
  {
   "cell_type": "code",
   "execution_count": 34,
   "metadata": {},
   "outputs": [
    {
     "name": "stdout",
     "output_type": "stream",
     "text": [
      "The boostrapped mean value of the probability of having an error of more than 2 points is 0.11 ± 0.01\n"
     ]
    }
   ],
   "source": [
    "proba_off_2_points_mean = proba_off_2_points.mean()\n",
    "proba_off_2_points_std = proba_off_2_points.std()\n",
    "\n",
    "print(\"The boostrapped mean value of the probability of having an error of more than 2 points is {:.2f} ± {:.2f}\".format(proba_off_2_points_mean, proba_off_2_points_std))"
   ]
  },
  {
   "cell_type": "markdown",
   "metadata": {},
   "source": [
    "**Answer 3.4**"
   ]
  },
  {
   "cell_type": "code",
   "execution_count": 35,
   "metadata": {},
   "outputs": [
    {
     "data": {
      "text/plain": [
       "-0.4344604613517289"
      ]
     },
     "execution_count": 35,
     "metadata": {},
     "output_type": "execute_result"
    }
   ],
   "source": [
    "# Compute the predictions using Gradient Boosting Regression\n",
    "gb_reg = GradientBoostingRegressor()\n",
    "\n",
    "X_train , y_train, X_test, y_test = longitudinal_split(df)\n",
    "\n",
    "gb_reg.fit(X_train, y_train)  # train it\n",
    "y_predicted = gb_reg.predict(X_test)\n",
    "\n",
    "# Compute R^2\n",
    "r2_score(y_test, y_predicted)"
   ]
  },
  {
   "cell_type": "markdown",
   "metadata": {},
   "source": [
    "**Answer 3.5 : Discuss**  _Hypothesize a reason for the difference in performance between the Linear regression and the Gradient Boosting Regressor._"
   ]
  },
  {
   "cell_type": "markdown",
   "metadata": {},
   "source": [
    "Gradient boosting is a sequential method, it uses previous models to build the next one and minimizes the error, so it should perform better than a linear model.\n",
    "\n",
    "And as expected the Gradient Boosting method works better, however in both cases the R^2 explains only a very small variation of the data ( ~8% for gradient boosting and \\ 4% for linear regression). Therefore either our selected variables aren’t meaningful or the dataset isn’t large enough and not representative. "
   ]
  },
  {
   "cell_type": "markdown",
   "metadata": {},
   "source": [
    "**Task 4 (Are we solving the correct problem? — 16 pts)**\n",
    "\n",
    "All your efforts so far have assumed that decisions are taken at the \"album\" level, which is often not the case for bands with multiple albums. In those cases, it could be interesting to predict what is the success of a given band album given the features of the album **and of previous albums**.\n",
    "\n",
    "1. Create a new dataframe that contains one row per band with more than 1 album. This dataframe should have the same columns as the data provided to you, considering the latest album of the respective band (note that this is determined by the release year of the album, not the date when it was reviewed). Additionally, for each feature considered in Task 3.1 (including the one-hot encoded features), create an additional column post-fixed with `_previous` (e.g., `danceability_previous`). These columns should contain the average values for all of the band's previous albums. Also, create a column `score_previous` with the average score of previous albums. Print the number of rows in the dataframe as well as the name of the columns.\n",
    "\n",
    "2. Train a Gradient Boosting Regressor considering all features created in Task 4.1 (note that `score` is the outcome and everything else is a feature, including `score_previous`). Use the 70/30 random train-test split, the default hyperparameters, and report the $R^2$ for the testing set. \n",
    "\n",
    "3. Can hyperparameter tuning improve your model? Write modular code (i.e., a function) to divide your training data into $N$ folds and perform cross-validation. Experiment tuning two hyperparameters of the Gradient Boosting Regressor: `n_estimators` and `learning_rate`. For each possible combination of the two hyperparameters (see below for the range of values that you should try for each hyperparameter), train your model in a cross-validation setup with $N=20$ folds. Report the mean  $R^2$ along with the 90% CI for each scenario. \n",
    "    - n_estimators $ \\in  \\{ 100, 200, 300, 400\\}$\n",
    "    - learning_rate $ \\in  \\{ 0.1, 0.05, 0.01\\}$.\n",
    " \n",
    " With the best hyperparameters obtained, train your model with the entire training set and report the $R^2$ on the testing set.\n",
    " \n",
    "4. **Discuss:** How do these results compare with the previous setup (the scenario considered in **Task 3.4**)? Point out two reasons why it is hard to compare the results obtained in 4.3 and 3.4 at face value? How would you fairly compare the two different setups?\n",
    "\n",
    "---"
   ]
  },
  {
   "cell_type": "markdown",
   "metadata": {},
   "source": [
    "**Answer 4.1**"
   ]
  },
  {
   "cell_type": "code",
   "execution_count": 36,
   "metadata": {},
   "outputs": [
    {
     "name": "stdout",
     "output_type": "stream",
     "text": [
      "Number of rows in the new dataset: 3564\n",
      "\n",
      "Name of the columns of the new dataset:  Index(['album', 'reviewauthor', 'score', 'releaseyear', 'reviewdate',\n",
      "       'recordlabel', 'danceability', 'energy', 'key', 'loudness',\n",
      "       'speechiness', 'acousticness', 'instrumentalness', 'liveness',\n",
      "       'valence', 'tempo', 'Electronic_onehot', 'Experimental_onehot',\n",
      "       'Folk/Country_onehot', 'Global_onehot', 'Jazz_onehot', 'Metal_onehot',\n",
      "       'Other_onehot', 'Pop/R&B_onehot', 'Rap_onehot', 'Rock_onehot',\n",
      "       'releaseyear_previous', 'key_previous', 'acousticness_previous',\n",
      "       'danceability_previous', 'energy_previous', 'instrumentalness_previous',\n",
      "       'liveness_previous', 'loudness_previous', 'speechiness_previous',\n",
      "       'valence_previous', 'tempo_previous', 'Electronic_onehot_previous',\n",
      "       'Experimental_onehot_previous', 'Folk/Country_onehot_previous',\n",
      "       'Global_onehot_previous', 'Jazz_onehot_previous',\n",
      "       'Metal_onehot_previous', 'Other_onehot_previous',\n",
      "       'Pop/R&B_onehot_previous', 'Rap_onehot_previous',\n",
      "       'Rock_onehot_previous', 'score_previous'],\n",
      "      dtype='object') \n",
      "\n"
     ]
    },
    {
     "data": {
      "text/html": [
       "<div>\n",
       "<style scoped>\n",
       "    .dataframe tbody tr th:only-of-type {\n",
       "        vertical-align: middle;\n",
       "    }\n",
       "\n",
       "    .dataframe tbody tr th {\n",
       "        vertical-align: top;\n",
       "    }\n",
       "\n",
       "    .dataframe thead th {\n",
       "        text-align: right;\n",
       "    }\n",
       "</style>\n",
       "<table border=\"1\" class=\"dataframe\">\n",
       "  <thead>\n",
       "    <tr style=\"text-align: right;\">\n",
       "      <th></th>\n",
       "      <th>album</th>\n",
       "      <th>reviewauthor</th>\n",
       "      <th>score</th>\n",
       "      <th>releaseyear</th>\n",
       "      <th>reviewdate</th>\n",
       "      <th>recordlabel</th>\n",
       "      <th>danceability</th>\n",
       "      <th>energy</th>\n",
       "      <th>key</th>\n",
       "      <th>loudness</th>\n",
       "      <th>...</th>\n",
       "      <th>Experimental_onehot_previous</th>\n",
       "      <th>Folk/Country_onehot_previous</th>\n",
       "      <th>Global_onehot_previous</th>\n",
       "      <th>Jazz_onehot_previous</th>\n",
       "      <th>Metal_onehot_previous</th>\n",
       "      <th>Other_onehot_previous</th>\n",
       "      <th>Pop/R&amp;B_onehot_previous</th>\n",
       "      <th>Rap_onehot_previous</th>\n",
       "      <th>Rock_onehot_previous</th>\n",
       "      <th>score_previous</th>\n",
       "    </tr>\n",
       "    <tr>\n",
       "      <th>artist</th>\n",
       "      <th></th>\n",
       "      <th></th>\n",
       "      <th></th>\n",
       "      <th></th>\n",
       "      <th></th>\n",
       "      <th></th>\n",
       "      <th></th>\n",
       "      <th></th>\n",
       "      <th></th>\n",
       "      <th></th>\n",
       "      <th></th>\n",
       "      <th></th>\n",
       "      <th></th>\n",
       "      <th></th>\n",
       "      <th></th>\n",
       "      <th></th>\n",
       "      <th></th>\n",
       "      <th></th>\n",
       "      <th></th>\n",
       "      <th></th>\n",
       "      <th></th>\n",
       "    </tr>\n",
       "  </thead>\n",
       "  <tbody>\n",
       "    <tr>\n",
       "      <th>Think About Life</th>\n",
       "      <td>Family</td>\n",
       "      <td>Rebecca Raber</td>\n",
       "      <td>6.1</td>\n",
       "      <td>2009.0</td>\n",
       "      <td>November 25 2009</td>\n",
       "      <td>Alien8</td>\n",
       "      <td>0.631091</td>\n",
       "      <td>0.752455</td>\n",
       "      <td>4.727273</td>\n",
       "      <td>-4.473455</td>\n",
       "      <td>...</td>\n",
       "      <td>0.0</td>\n",
       "      <td>0.0</td>\n",
       "      <td>0.0</td>\n",
       "      <td>0.0</td>\n",
       "      <td>0.0</td>\n",
       "      <td>0.0</td>\n",
       "      <td>1.0</td>\n",
       "      <td>0.0</td>\n",
       "      <td>0.0</td>\n",
       "      <td>5.800000</td>\n",
       "    </tr>\n",
       "    <tr>\n",
       "      <th>The Double</th>\n",
       "      <td>Loose in the Air</td>\n",
       "      <td>Matthew Murphy</td>\n",
       "      <td>7.4</td>\n",
       "      <td>2005.0</td>\n",
       "      <td>September 13 2005</td>\n",
       "      <td>Matador</td>\n",
       "      <td>0.378600</td>\n",
       "      <td>0.478830</td>\n",
       "      <td>6.000000</td>\n",
       "      <td>-9.367800</td>\n",
       "      <td>...</td>\n",
       "      <td>1.0</td>\n",
       "      <td>0.0</td>\n",
       "      <td>0.0</td>\n",
       "      <td>0.0</td>\n",
       "      <td>0.0</td>\n",
       "      <td>0.0</td>\n",
       "      <td>0.0</td>\n",
       "      <td>0.0</td>\n",
       "      <td>0.0</td>\n",
       "      <td>7.700000</td>\n",
       "    </tr>\n",
       "    <tr>\n",
       "      <th>The Clash</th>\n",
       "      <td>Live at Shea Stadium</td>\n",
       "      <td>Stuart Berman</td>\n",
       "      <td>7.7</td>\n",
       "      <td>2008.0</td>\n",
       "      <td>October 17 2008</td>\n",
       "      <td>Sony</td>\n",
       "      <td>0.382500</td>\n",
       "      <td>0.833150</td>\n",
       "      <td>5.750000</td>\n",
       "      <td>-4.949750</td>\n",
       "      <td>...</td>\n",
       "      <td>0.0</td>\n",
       "      <td>0.0</td>\n",
       "      <td>0.0</td>\n",
       "      <td>0.0</td>\n",
       "      <td>0.0</td>\n",
       "      <td>0.0</td>\n",
       "      <td>0.0</td>\n",
       "      <td>0.0</td>\n",
       "      <td>1.0</td>\n",
       "      <td>8.000000</td>\n",
       "    </tr>\n",
       "    <tr>\n",
       "      <th>The Shaky Hands</th>\n",
       "      <td>Let It Die</td>\n",
       "      <td>Stuart Berman</td>\n",
       "      <td>6.4</td>\n",
       "      <td>2009.0</td>\n",
       "      <td>October 27 2009</td>\n",
       "      <td>Kill Rock Stars</td>\n",
       "      <td>0.730545</td>\n",
       "      <td>0.294200</td>\n",
       "      <td>6.818182</td>\n",
       "      <td>-12.738545</td>\n",
       "      <td>...</td>\n",
       "      <td>0.0</td>\n",
       "      <td>0.0</td>\n",
       "      <td>0.0</td>\n",
       "      <td>0.0</td>\n",
       "      <td>0.0</td>\n",
       "      <td>0.0</td>\n",
       "      <td>0.0</td>\n",
       "      <td>0.0</td>\n",
       "      <td>1.0</td>\n",
       "      <td>7.350000</td>\n",
       "    </tr>\n",
       "    <tr>\n",
       "      <th>The Organ</th>\n",
       "      <td>Grab That Gun</td>\n",
       "      <td>Sam Ubl</td>\n",
       "      <td>6.6</td>\n",
       "      <td>2004.0</td>\n",
       "      <td>January 12 2005</td>\n",
       "      <td>Mint</td>\n",
       "      <td>0.480000</td>\n",
       "      <td>0.761300</td>\n",
       "      <td>4.100000</td>\n",
       "      <td>-4.061900</td>\n",
       "      <td>...</td>\n",
       "      <td>0.0</td>\n",
       "      <td>0.0</td>\n",
       "      <td>0.0</td>\n",
       "      <td>0.0</td>\n",
       "      <td>0.0</td>\n",
       "      <td>0.0</td>\n",
       "      <td>0.0</td>\n",
       "      <td>0.0</td>\n",
       "      <td>1.0</td>\n",
       "      <td>7.100000</td>\n",
       "    </tr>\n",
       "    <tr>\n",
       "      <th>The Thermals</th>\n",
       "      <td>We Disappear</td>\n",
       "      <td>Evan Rytlewski</td>\n",
       "      <td>6.9</td>\n",
       "      <td>2016.0</td>\n",
       "      <td>March 24 2016</td>\n",
       "      <td>Saddle Creek</td>\n",
       "      <td>0.083800</td>\n",
       "      <td>0.042400</td>\n",
       "      <td>0.000000</td>\n",
       "      <td>-28.075000</td>\n",
       "      <td>...</td>\n",
       "      <td>0.0</td>\n",
       "      <td>0.0</td>\n",
       "      <td>0.0</td>\n",
       "      <td>0.0</td>\n",
       "      <td>0.0</td>\n",
       "      <td>0.0</td>\n",
       "      <td>0.0</td>\n",
       "      <td>0.0</td>\n",
       "      <td>1.0</td>\n",
       "      <td>7.216667</td>\n",
       "    </tr>\n",
       "    <tr>\n",
       "      <th>Luomo</th>\n",
       "      <td>Convivial</td>\n",
       "      <td>Tim Finney</td>\n",
       "      <td>8.5</td>\n",
       "      <td>2008.0</td>\n",
       "      <td>November 5 2008</td>\n",
       "      <td>Huume</td>\n",
       "      <td>0.876000</td>\n",
       "      <td>0.277000</td>\n",
       "      <td>5.000000</td>\n",
       "      <td>-13.868000</td>\n",
       "      <td>...</td>\n",
       "      <td>0.0</td>\n",
       "      <td>0.0</td>\n",
       "      <td>0.0</td>\n",
       "      <td>0.0</td>\n",
       "      <td>0.0</td>\n",
       "      <td>0.0</td>\n",
       "      <td>0.0</td>\n",
       "      <td>0.0</td>\n",
       "      <td>0.0</td>\n",
       "      <td>8.633333</td>\n",
       "    </tr>\n",
       "    <tr>\n",
       "      <th>Twerps</th>\n",
       "      <td>Range Anxiety</td>\n",
       "      <td>Ian Cohen</td>\n",
       "      <td>7.5</td>\n",
       "      <td>2015.0</td>\n",
       "      <td>January 28 2015</td>\n",
       "      <td>Merge</td>\n",
       "      <td>0.433385</td>\n",
       "      <td>0.628769</td>\n",
       "      <td>2.384615</td>\n",
       "      <td>-7.390692</td>\n",
       "      <td>...</td>\n",
       "      <td>0.0</td>\n",
       "      <td>0.0</td>\n",
       "      <td>0.0</td>\n",
       "      <td>0.0</td>\n",
       "      <td>0.0</td>\n",
       "      <td>0.0</td>\n",
       "      <td>0.0</td>\n",
       "      <td>0.0</td>\n",
       "      <td>1.0</td>\n",
       "      <td>7.900000</td>\n",
       "    </tr>\n",
       "    <tr>\n",
       "      <th>Alabama Shakes</th>\n",
       "      <td>Sound &amp; Color</td>\n",
       "      <td>Ryan Dombal</td>\n",
       "      <td>8.1</td>\n",
       "      <td>2015.0</td>\n",
       "      <td>April 23 2015</td>\n",
       "      <td>ATO</td>\n",
       "      <td>0.470667</td>\n",
       "      <td>0.610833</td>\n",
       "      <td>7.500000</td>\n",
       "      <td>-6.191500</td>\n",
       "      <td>...</td>\n",
       "      <td>0.0</td>\n",
       "      <td>0.0</td>\n",
       "      <td>0.0</td>\n",
       "      <td>0.0</td>\n",
       "      <td>0.0</td>\n",
       "      <td>0.0</td>\n",
       "      <td>0.0</td>\n",
       "      <td>0.0</td>\n",
       "      <td>1.0</td>\n",
       "      <td>7.800000</td>\n",
       "    </tr>\n",
       "    <tr>\n",
       "      <th>EMA</th>\n",
       "      <td>Exile in the Outer Ring</td>\n",
       "      <td>Judy Berman</td>\n",
       "      <td>8.0</td>\n",
       "      <td>2017.0</td>\n",
       "      <td>August 25 2017</td>\n",
       "      <td>City Slang</td>\n",
       "      <td>0.396818</td>\n",
       "      <td>0.553364</td>\n",
       "      <td>2.272727</td>\n",
       "      <td>-8.119727</td>\n",
       "      <td>...</td>\n",
       "      <td>0.0</td>\n",
       "      <td>0.0</td>\n",
       "      <td>0.0</td>\n",
       "      <td>0.0</td>\n",
       "      <td>0.0</td>\n",
       "      <td>0.0</td>\n",
       "      <td>0.0</td>\n",
       "      <td>0.0</td>\n",
       "      <td>1.0</td>\n",
       "      <td>7.950000</td>\n",
       "    </tr>\n",
       "  </tbody>\n",
       "</table>\n",
       "<p>10 rows × 48 columns</p>\n",
       "</div>"
      ],
      "text/plain": [
       "                                    album    reviewauthor  score  releaseyear  \\\n",
       "artist                                                                          \n",
       "Think About Life                   Family   Rebecca Raber    6.1       2009.0   \n",
       "The Double               Loose in the Air  Matthew Murphy    7.4       2005.0   \n",
       "The Clash            Live at Shea Stadium   Stuart Berman    7.7       2008.0   \n",
       "The Shaky Hands                Let It Die   Stuart Berman    6.4       2009.0   \n",
       "The Organ                   Grab That Gun         Sam Ubl    6.6       2004.0   \n",
       "The Thermals                 We Disappear  Evan Rytlewski    6.9       2016.0   \n",
       "Luomo                           Convivial      Tim Finney    8.5       2008.0   \n",
       "Twerps                      Range Anxiety       Ian Cohen    7.5       2015.0   \n",
       "Alabama Shakes              Sound & Color     Ryan Dombal    8.1       2015.0   \n",
       "EMA               Exile in the Outer Ring     Judy Berman    8.0       2017.0   \n",
       "\n",
       "                         reviewdate      recordlabel  danceability    energy  \\\n",
       "artist                                                                         \n",
       "Think About Life   November 25 2009           Alien8      0.631091  0.752455   \n",
       "The Double        September 13 2005          Matador      0.378600  0.478830   \n",
       "The Clash           October 17 2008             Sony      0.382500  0.833150   \n",
       "The Shaky Hands     October 27 2009  Kill Rock Stars      0.730545  0.294200   \n",
       "The Organ           January 12 2005             Mint      0.480000  0.761300   \n",
       "The Thermals          March 24 2016     Saddle Creek      0.083800  0.042400   \n",
       "Luomo               November 5 2008            Huume      0.876000  0.277000   \n",
       "Twerps              January 28 2015            Merge      0.433385  0.628769   \n",
       "Alabama Shakes        April 23 2015              ATO      0.470667  0.610833   \n",
       "EMA                  August 25 2017       City Slang      0.396818  0.553364   \n",
       "\n",
       "                       key   loudness  ...  Experimental_onehot_previous  \\\n",
       "artist                                 ...                                 \n",
       "Think About Life  4.727273  -4.473455  ...                           0.0   \n",
       "The Double        6.000000  -9.367800  ...                           1.0   \n",
       "The Clash         5.750000  -4.949750  ...                           0.0   \n",
       "The Shaky Hands   6.818182 -12.738545  ...                           0.0   \n",
       "The Organ         4.100000  -4.061900  ...                           0.0   \n",
       "The Thermals      0.000000 -28.075000  ...                           0.0   \n",
       "Luomo             5.000000 -13.868000  ...                           0.0   \n",
       "Twerps            2.384615  -7.390692  ...                           0.0   \n",
       "Alabama Shakes    7.500000  -6.191500  ...                           0.0   \n",
       "EMA               2.272727  -8.119727  ...                           0.0   \n",
       "\n",
       "                  Folk/Country_onehot_previous  Global_onehot_previous  \\\n",
       "artist                                                                   \n",
       "Think About Life                           0.0                     0.0   \n",
       "The Double                                 0.0                     0.0   \n",
       "The Clash                                  0.0                     0.0   \n",
       "The Shaky Hands                            0.0                     0.0   \n",
       "The Organ                                  0.0                     0.0   \n",
       "The Thermals                               0.0                     0.0   \n",
       "Luomo                                      0.0                     0.0   \n",
       "Twerps                                     0.0                     0.0   \n",
       "Alabama Shakes                             0.0                     0.0   \n",
       "EMA                                        0.0                     0.0   \n",
       "\n",
       "                  Jazz_onehot_previous  Metal_onehot_previous  \\\n",
       "artist                                                          \n",
       "Think About Life                   0.0                    0.0   \n",
       "The Double                         0.0                    0.0   \n",
       "The Clash                          0.0                    0.0   \n",
       "The Shaky Hands                    0.0                    0.0   \n",
       "The Organ                          0.0                    0.0   \n",
       "The Thermals                       0.0                    0.0   \n",
       "Luomo                              0.0                    0.0   \n",
       "Twerps                             0.0                    0.0   \n",
       "Alabama Shakes                     0.0                    0.0   \n",
       "EMA                                0.0                    0.0   \n",
       "\n",
       "                  Other_onehot_previous  Pop/R&B_onehot_previous  \\\n",
       "artist                                                             \n",
       "Think About Life                    0.0                      1.0   \n",
       "The Double                          0.0                      0.0   \n",
       "The Clash                           0.0                      0.0   \n",
       "The Shaky Hands                     0.0                      0.0   \n",
       "The Organ                           0.0                      0.0   \n",
       "The Thermals                        0.0                      0.0   \n",
       "Luomo                               0.0                      0.0   \n",
       "Twerps                              0.0                      0.0   \n",
       "Alabama Shakes                      0.0                      0.0   \n",
       "EMA                                 0.0                      0.0   \n",
       "\n",
       "                  Rap_onehot_previous  Rock_onehot_previous  score_previous  \n",
       "artist                                                                       \n",
       "Think About Life                  0.0                   0.0        5.800000  \n",
       "The Double                        0.0                   0.0        7.700000  \n",
       "The Clash                         0.0                   1.0        8.000000  \n",
       "The Shaky Hands                   0.0                   1.0        7.350000  \n",
       "The Organ                         0.0                   1.0        7.100000  \n",
       "The Thermals                      0.0                   1.0        7.216667  \n",
       "Luomo                             0.0                   0.0        8.633333  \n",
       "Twerps                            0.0                   1.0        7.900000  \n",
       "Alabama Shakes                    0.0                   1.0        7.800000  \n",
       "EMA                               0.0                   1.0        7.950000  \n",
       "\n",
       "[10 rows x 48 columns]"
      ]
     },
     "execution_count": 36,
     "metadata": {},
     "output_type": "execute_result"
    }
   ],
   "source": [
    "# dataframe that contains one row per band with more than 1 album\n",
    "more_1_albums = df.groupby(\"artist\").filter(lambda x: len(x[\"album\"]) > 1)\n",
    "# dataframe with the latest album of each group with more than 1 album\n",
    "idx_latest_albums = more_1_albums.groupby(\"artist\")[\"releaseyear\"].idxmax()\n",
    "latest_albums = more_1_albums.loc[idx_latest_albums.values]\n",
    "# Average values for all of the band's previous albums\n",
    "averaged_features = features + [\"score\"]\n",
    "previous_albums = more_1_albums.drop(idx_latest_albums.values)\n",
    "mean_previous_albums = previous_albums.groupby(\"artist\")[averaged_features].mean()\n",
    "# Joining the averaged values for the previous albums to the dataframe with latest albums\n",
    "latest_and_previous = pd.merge(latest_albums, mean_previous_albums, left_on=\"artist\", right_index=True, suffixes=(\"\", \"_previous\"))\n",
    "latest_and_previous.set_index(\"artist\", inplace=True, verify_integrity=True)\n",
    "# Printing the number of rows and the name of columns\n",
    "print(\"Number of rows in the new dataset: {}\\n\".format(len(latest_and_previous)))\n",
    "print(\"Name of the columns of the new dataset: \", latest_and_previous.columns, \"\\n\")\n",
    "# Printing the final dataset with the latest albums and the averaged information of the previous albums\n",
    "latest_and_previous.sample(10)"
   ]
  },
  {
   "cell_type": "markdown",
   "metadata": {},
   "source": [
    "**Answer 4.2**"
   ]
  },
  {
   "cell_type": "code",
   "execution_count": 37,
   "metadata": {},
   "outputs": [
    {
     "data": {
      "text/plain": [
       "0.18993939913043256"
      ]
     },
     "execution_count": 37,
     "metadata": {},
     "output_type": "execute_result"
    }
   ],
   "source": [
    "# Generating in numpy the dataset and the labels\n",
    "features_Q4 = features + [x + \"_previous\" for x in averaged_features]\n",
    "\n",
    "X = numpy_helper(latest_and_previous, cols = features_Q4)\n",
    "Y = numpy_helper(latest_and_previous, cols = 'score')\n",
    "\n",
    "# Splitting the dataset\n",
    "X_train, X_test, y_train, y_test = train_test_split(X,Y, test_size=0.3, random_state=123, shuffle=True, stratify=None)\n",
    "\n",
    "# Compute the predictions with the new set of features using Gradient Boosting Regression\n",
    "gb_reg = GradientBoostingRegressor()\n",
    "gb_reg.fit(X_train, y_train)  # train it\n",
    "y_predicted = gb_reg.predict(X_test)\n",
    "\n",
    "# Compute R^2\n",
    "r2_score(y_test, y_predicted)"
   ]
  },
  {
   "cell_type": "markdown",
   "metadata": {},
   "source": [
    "**Answer 4.3**"
   ]
  },
  {
   "cell_type": "code",
   "execution_count": 38,
   "metadata": {
    "scrolled": true
   },
   "outputs": [
    {
     "name": "stdout",
     "output_type": "stream",
     "text": [
      "Wall time: 19min 24s\n"
     ]
    }
   ],
   "source": [
    "# Displaying the mean of R^2 along with the 90% CI for each couple of hyperparameters for Gradient Boosting Regression\n",
    "def hyper_tuning_GBR (n_estimators, learning_rate, N):\n",
    "    r2_cv = [] \n",
    "    for n in n_estimators:\n",
    "        for lr in learning_rate:\n",
    "            gb_reg = GradientBoostingRegressor(n_estimators=n, learning_rate=lr)\n",
    "            cv_results = cross_validate(gb_reg, X, Y, cv=N, scoring=\"r2\")\n",
    "            for r2 in cv_results[\"test_score\"]:\n",
    "                r2_cv.append({\"hyperpar\": (n, lr), \"r2\": r2})\n",
    "    r2_df = pd.DataFrame(r2_cv)\n",
    "    # Display r2 means along with 90% CI for each couple of hyperparameters\n",
    "    return r2_df\n",
    "\n",
    "# hyperparameters used for the Gradient Boosting Regression model\n",
    "n_estimators = [100,200,300,400]\n",
    "learning_rate = [0.1,0.05,0.01]\n",
    "# 20-fold cross-validation is used for the tuning of hyperparameters\n",
    "N = 20\n",
    "\n",
    "%time r2_df = hyper_tuning_GBR(n_estimators, learning_rate, N)"
   ]
  },
  {
   "cell_type": "code",
   "execution_count": 39,
   "metadata": {
    "scrolled": true
   },
   "outputs": [
    {
     "data": {
      "image/png": "[encoded data removed]",
      "text/plain": [
       "<Figure size 432x288 with 1 Axes>"
      ]
     },
     "metadata": {
      "needs_background": "light"
     },
     "output_type": "display_data"
    }
   ],
   "source": [
    "plot = sns.barplot(x=\"hyperpar\", y=\"r2\", data=r2_df, ci=90)\n",
    "plot.set_xticklabels(plot.get_xticklabels(), rotation = 45)\n",
    "plt.show()"
   ]
  },
  {
   "cell_type": "markdown",
   "metadata": {},
   "source": [
    "**Answer 4.4**"
   ]
  },
  {
   "cell_type": "code",
   "execution_count": 44,
   "metadata": {},
   "outputs": [
    {
     "data": {
      "text/plain": [
       "0.20497790996605947"
      ]
     },
     "execution_count": 44,
     "metadata": {},
     "output_type": "execute_result"
    }
   ],
   "source": [
    "# Best hyperparameters found\n",
    "n_best, lr_best = (400, 0.01)\n",
    "gb_reg = GradientBoostingRegressor(n_estimators=n_best, learning_rate=lr_best)\n",
    "\n",
    "# Training the model on the full dataset\n",
    "gb_reg.fit(X_train, y_train)\n",
    "y_predicted = gb_reg.predict(X_test)\n",
    "\n",
    "# Compute R^2 with the best hyperparameters\n",
    "r2_score(y_test, y_predicted)"
   ]
  },
  {
   "cell_type": "markdown",
   "metadata": {},
   "source": [
    "**Discuss** : _How do these results compare with the previous setup (the scenario considered in Task 3.4)? Point out two reasons why it is hard to compare the results obtained in 4.3 and 3.4 at face value? How would you fairly compare the two different setups?_"
   ]
  },
  {
   "cell_type": "markdown",
   "metadata": {},
   "source": [
    "The R-2 score obtained for question 4.4 was of 0.20, while in question 3.4 we had an R-2 score of -0.41906 indicating that it did not properly fit the data, and a lot worse that the model evaluated in 4.3. \n",
    "In the first setup (3.4) a hyper-parameter optimization isn't performed, but also features are added to the dataframe in the second setup (4.3), which makes it hard to compare the results at face value since the first model might performs worse than it should. If we would want to fairly compare both setups we should optimize the hyper-parameters in both cases."
   ]
  },
  {
   "cell_type": "markdown",
   "metadata": {},
   "source": [
    "## Part 2: Second Album Syndrome\n",
    "\n",
    "Your second project at *Piccardi Music* is to shed light on one of the business's oldest enigmas: the \"second album syndrome.\" In a nutshell, the \"second album syndrome\" is a theory that states that the second album of a band always sucks. ([Related read](https://tvtropes.org/pmwiki/pmwiki.php/Main/SophomoreSlump))\n",
    "\n",
    "Assume—for the purpose of this task—that the Pitchfork data contains all albums for all artists it covers (even though this might not be true in reality)."
   ]
  },
  {
   "cell_type": "markdown",
   "metadata": {
    "pycharm": {
     "name": "#%% md\n"
    }
   },
   "source": [
    "**Task 5 (Preliminary analyses — 8 pts)**\n",
    "\n",
    "You begin by carrying out some preliminary data processing and analyses.\n",
    "\n",
    "1. Create a new dataframe (from the original data with duplicates dropped, the same as you obtained after finishing Task 1.1) containing only albums from artists with two or more albums and where the release year is not empty.\n",
    "2. Create a new column `album_number` which indicates how many albums the artist has produced before this one (before the second album, the artist has already produced one album).\n",
    "3. Calculate the mean and the standard error fo the mean of the scores of the first and second albums in the dataset. Additionally, plot the two distributions. \n",
    "4. Use an appropriate method to determine if the difference in means of 1st and 2nd albums is statistically significant?\n",
    "5. **Discuss:** Do these analyses suggest that the \"second album syndrome\" exists?\n",
    "\n",
    "---"
   ]
  },
  {
   "cell_type": "markdown",
   "metadata": {},
   "source": [
    "**Answer 5.1**"
   ]
  },
  {
   "cell_type": "code",
   "execution_count": 45,
   "metadata": {},
   "outputs": [
    {
     "name": "stdout",
     "output_type": "stream",
     "text": [
      "There are 3564 artists with two or more abums.\n",
      "This corresponds to 12410 abums.\n"
     ]
    }
   ],
   "source": [
    "snd_album_df_raw = saved_df\n",
    "# count the occurences of artists\n",
    "v = df.artist.value_counts()\n",
    "print(f'There are {len(v.index[v.gt(1)])} artists with two or more abums.')\n",
    "# keep the albums reviews for artist with more than one album\n",
    "df_tmp = df[df.artist.isin(v.index[v.gt(1)])]\n",
    "snd_album_df = df_tmp[df_tmp.releaseyear != 'None']\n",
    "print(f'This corresponds to {len(df_tmp)} abums.')"
   ]
  },
  {
   "cell_type": "markdown",
   "metadata": {},
   "source": [
    "**Answer 5.2**"
   ]
  },
  {
   "cell_type": "code",
   "execution_count": 46,
   "metadata": {},
   "outputs": [
    {
     "data": {
      "text/html": [
       "<div>\n",
       "<style scoped>\n",
       "    .dataframe tbody tr th:only-of-type {\n",
       "        vertical-align: middle;\n",
       "    }\n",
       "\n",
       "    .dataframe tbody tr th {\n",
       "        vertical-align: top;\n",
       "    }\n",
       "\n",
       "    .dataframe thead th {\n",
       "        text-align: right;\n",
       "    }\n",
       "</style>\n",
       "<table border=\"1\" class=\"dataframe\">\n",
       "  <thead>\n",
       "    <tr style=\"text-align: right;\">\n",
       "      <th></th>\n",
       "      <th>artist</th>\n",
       "      <th>album</th>\n",
       "      <th>releaseyear</th>\n",
       "      <th>album_number</th>\n",
       "    </tr>\n",
       "  </thead>\n",
       "  <tbody>\n",
       "    <tr>\n",
       "      <th>7411</th>\n",
       "      <td>!!!</td>\n",
       "      <td>Split EP</td>\n",
       "      <td>1999.0</td>\n",
       "      <td>0</td>\n",
       "    </tr>\n",
       "    <tr>\n",
       "      <th>6891</th>\n",
       "      <td>!!!</td>\n",
       "      <td>Louden Up Now</td>\n",
       "      <td>2004.0</td>\n",
       "      <td>1</td>\n",
       "    </tr>\n",
       "    <tr>\n",
       "      <th>10517</th>\n",
       "      <td>!!!</td>\n",
       "      <td>Myth Takes</td>\n",
       "      <td>2007.0</td>\n",
       "      <td>2</td>\n",
       "    </tr>\n",
       "    <tr>\n",
       "      <th>10053</th>\n",
       "      <td>!!!</td>\n",
       "      <td>Strange Weather, Isn't It?</td>\n",
       "      <td>2010.0</td>\n",
       "      <td>3</td>\n",
       "    </tr>\n",
       "    <tr>\n",
       "      <th>2397</th>\n",
       "      <td>!!!</td>\n",
       "      <td>Thr!!!er</td>\n",
       "      <td>2013.0</td>\n",
       "      <td>4</td>\n",
       "    </tr>\n",
       "  </tbody>\n",
       "</table>\n",
       "</div>"
      ],
      "text/plain": [
       "      artist                       album  releaseyear  album_number\n",
       "7411     !!!                    Split EP       1999.0             0\n",
       "6891     !!!               Louden Up Now       2004.0             1\n",
       "10517    !!!                  Myth Takes       2007.0             2\n",
       "10053    !!!  Strange Weather, Isn't It?       2010.0             3\n",
       "2397     !!!                    Thr!!!er       2013.0             4"
      ]
     },
     "execution_count": 46,
     "metadata": {},
     "output_type": "execute_result"
    }
   ],
   "source": [
    "# the total number of album per artist is here\n",
    "v = df.artist.value_counts()\n",
    "#we need to sort by artist and then by releaseyear\n",
    "snd_album_df = snd_album_df.sort_values(by=['artist','releaseyear'])\n",
    "#for each artist we count the number of previous row in the group\n",
    "snd_album_df['album_number'] = snd_album_df.groupby('artist').cumcount() \n",
    "snd_album_df[['artist','album','releaseyear','album_number']].head() "
   ]
  },
  {
   "cell_type": "markdown",
   "metadata": {},
   "source": [
    "**Answer 5.3** Calculate the mean and the standard error fo the mean of the scores of the first and second albums in the dataset. Additionally, plot the two distributions."
   ]
  },
  {
   "cell_type": "code",
   "execution_count": 47,
   "metadata": {},
   "outputs": [
    {
     "name": "stdout",
     "output_type": "stream",
     "text": [
      "The first album score has an average of 7.3 with a standard deviation of 1.24.\n",
      "The second album score has an average of 7.04 with a standard deviation of 1.27.\n"
     ]
    }
   ],
   "source": [
    "#select first albums and second albums separately \n",
    "first_albums = snd_album_df[snd_album_df['album_number']==0]\n",
    "snd_albums = snd_album_df[snd_album_df['album_number']==1]\n",
    "\n",
    "fst_mean,fst_std = first_albums['score'].describe()[['mean','std']]\n",
    "snd_mean,snd_std = snd_albums['score'].describe()[['mean','std']]\n",
    "print('The first album score has an average of {:2.3} with a standard deviation of {:2.3}.'.format(fst_mean,fst_std))\n",
    "print('The second album score has an average of {:2.3} with a standard deviation of {:2.3}.'.format(snd_mean,snd_std))"
   ]
  },
  {
   "cell_type": "code",
   "execution_count": 48,
   "metadata": {},
   "outputs": [
    {
     "data": {
      "image/png": "[encoded data removed]",
      "text/plain": [
       "<Figure size 432x288 with 1 Axes>"
      ]
     },
     "metadata": {
      "needs_background": "light"
     },
     "output_type": "display_data"
    }
   ],
   "source": [
    "# Displaying the first and second albums average scores along with their respective CI (95%)\n",
    "sns.barplot(x=\"album_number\", y=\"score\", data=snd_album_df[snd_album_df[\"album_number\"].isin({0, 1})], ci=95)\n",
    "plt.ylim([0, 9])\n",
    "plt.show()"
   ]
  },
  {
   "cell_type": "code",
   "execution_count": 49,
   "metadata": {},
   "outputs": [
    {
     "data": {
      "image/png": "[encoded data removed]",
      "text/plain": [
       "<Figure size 432x288 with 1 Axes>"
      ]
     },
     "metadata": {
      "needs_background": "light"
     },
     "output_type": "display_data"
    }
   ],
   "source": [
    "first_albums['score'].hist(bins=40,)\n",
    "plt.xlabel('Score')\n",
    "plt.ylabel('Number of \\nfirst albums')\n",
    "plt.title('Distribution of first albums score');\n",
    "\n",
    "snd_albums['score'].hist(bins=40,alpha =0.5)\n",
    "plt.xlabel('Score')\n",
    "plt.ylabel('Number of \\nsecond albums')\n",
    "plt.title('Distribution of second albums score');\n",
    "\n",
    "fig.subplots_adjust(hspace=1)"
   ]
  },
  {
   "cell_type": "markdown",
   "metadata": {},
   "source": [
    "**Answer 5.4** Use an appropriate method to determine if the difference in means of 1st and 2nd albums is statistically significant?"
   ]
  },
  {
   "cell_type": "code",
   "execution_count": 50,
   "metadata": {},
   "outputs": [],
   "source": [
    "from scipy.stats import ttest_ind\n",
    "from scipy.stats import ttest_rel\n",
    "#We are using a t-test for related sample because we have the same set of artists with different albums\n",
    "#null hypothesis that the means do no differ \n",
    "# the p-value will test us if we can or not reject the null hypothesis\n",
    "stat,pvalue = ttest_rel(first_albums['score'], snd_albums['score'])"
   ]
  },
  {
   "cell_type": "code",
   "execution_count": 51,
   "metadata": {},
   "outputs": [
    {
     "name": "stdout",
     "output_type": "stream",
     "text": [
      "The p-value is 6.279450038726332e-28 thus we can reject the null hyptothesis and the difference is significant.\n"
     ]
    }
   ],
   "source": [
    "print('The p-value is {} thus we can reject the null hyptothesis and the difference is significant.'.format(pvalue)) "
   ]
  },
  {
   "cell_type": "markdown",
   "metadata": {},
   "source": [
    "**Answer 5.5 : Discuss** _Do these analyses suggest that the \"second album syndrome\" exists?_\n"
   ]
  },
  {
   "cell_type": "markdown",
   "metadata": {},
   "source": [
    "According to the statistics the difference in means of 1st and 2nd albums is statistically significant, however it is small which makes the syndrome not so pronounced."
   ]
  },
  {
   "cell_type": "markdown",
   "metadata": {},
   "source": [
    "**Task 6 (Regression analysis — 20 pts)**\n",
    "\n",
    "Next, you proceed to examine some hypotheses about the \"second album syndrome\" using a regression framework. Namely:\n",
    "\n",
    "- The **time spent hypothesis:**  the first album usually has a couple of years of development under its belt and plenty of trial and error from live concerts to help the band determine what does or doesn't work. The second album, on the other hand, is often made in a rush.\n",
    "\n",
    "- The **style change hypothesis:** bands often try to change their style after their first album. This change is not always welcomed by the listeners.\n",
    "\n",
    "1. Create a new dataframe containing one row per 1st-2nd album pair. The dataframe should contain rows:\n",
    "    - `score_diff`: the difference in scores between the second and the first album (second - first).\n",
    "    - `time_diff`: the number of days elapsed between the first and the second album.\n",
    "    - `did_style_change`: a dummy variable that indicates whether the style of the music has changed. To obtain it, first, calculate the [standardized euclidean distance](https://docs.scipy.org/doc/scipy/reference/generated/scipy.spatial.distance.seuclidean.html) of music-related numerical features¹ between the second and the first album. Second, assign 1 to the 20% most distant 1st-2nd album pairs and 0 to all others.\n",
    "2. Fit a linear regression using `statsmodels` with this dataframe. Your regression should consider only an intercept, i.e., `\"score_diff ~ 1\"`.\n",
    "3. **Discuss:** Interpret the $R^2$ in your regression here. Does this analysis confirm what you observed in Task 5? Why?\n",
    "4. Include the `time_diff` and `did_style_change` as covariates in your model. Fit the regression again and report the summary of your model. \n",
    "5. **Discuss:** Interpret the coefficients `time_diff` and `did_style_change`. Carefully explain whether they provide evidence towards each of the aforementioned hypotheses? Do they rule out other reasons that may cause the \"second album syndrome effect\"?\n",
    "6. Create a new column called `time_diff_standardized`. It should be a standardized version of the `time_diff` column. Repeat the regression done in 6.4 using the `time_diff_standardized` column instead of the `time_diff` column.\n",
    "7. **Discuss:** Explain how the interpretation of the coefficients associated with this new column `time_diff_standardized` differ from its non-standardized version \n",
    "`time_diff`?\n",
    "\n",
    "--- \n",
    "\n",
    "**¹** Music related numerical features are:  \"key\", \"acousticness\", \"danceability\", \"energy\", \"instrumentalness\", \"liveness\", \"loudness\", \"speechiness\", \"valence\", and \"tempo\".\n"
   ]
  },
  {
   "cell_type": "markdown",
   "metadata": {},
   "source": [
    "**Answer 6.1**"
   ]
  },
  {
   "cell_type": "code",
   "execution_count": 52,
   "metadata": {},
   "outputs": [
    {
     "data": {
      "text/html": [
       "<div>\n",
       "<style scoped>\n",
       "    .dataframe tbody tr th:only-of-type {\n",
       "        vertical-align: middle;\n",
       "    }\n",
       "\n",
       "    .dataframe tbody tr th {\n",
       "        vertical-align: top;\n",
       "    }\n",
       "\n",
       "    .dataframe thead th {\n",
       "        text-align: right;\n",
       "    }\n",
       "</style>\n",
       "<table border=\"1\" class=\"dataframe\">\n",
       "  <thead>\n",
       "    <tr style=\"text-align: right;\">\n",
       "      <th></th>\n",
       "      <th>artist</th>\n",
       "      <th>album_first</th>\n",
       "      <th>reviewauthor_first</th>\n",
       "      <th>score_first</th>\n",
       "      <th>releaseyear_first</th>\n",
       "      <th>reviewdate_first</th>\n",
       "      <th>recordlabel_first</th>\n",
       "      <th>danceability_first</th>\n",
       "      <th>energy_first</th>\n",
       "      <th>key_first</th>\n",
       "      <th>...</th>\n",
       "      <th>Jazz_onehot_second</th>\n",
       "      <th>Metal_onehot_second</th>\n",
       "      <th>Other_onehot_second</th>\n",
       "      <th>Pop/R&amp;B_onehot_second</th>\n",
       "      <th>Rap_onehot_second</th>\n",
       "      <th>Rock_onehot_second</th>\n",
       "      <th>album_number_second</th>\n",
       "      <th>score_diff</th>\n",
       "      <th>time_diff</th>\n",
       "      <th>did_style_change</th>\n",
       "    </tr>\n",
       "  </thead>\n",
       "  <tbody>\n",
       "    <tr>\n",
       "      <th>3158</th>\n",
       "      <td>The Thing</td>\n",
       "      <td>The Cherry Thing</td>\n",
       "      <td>Lindsay Zoladz</td>\n",
       "      <td>8.0</td>\n",
       "      <td>2012.0</td>\n",
       "      <td>June 20 2012</td>\n",
       "      <td>Smalltown Supersound</td>\n",
       "      <td>0.344750</td>\n",
       "      <td>0.540000</td>\n",
       "      <td>5.750000</td>\n",
       "      <td>...</td>\n",
       "      <td>1</td>\n",
       "      <td>0</td>\n",
       "      <td>0</td>\n",
       "      <td>0</td>\n",
       "      <td>0</td>\n",
       "      <td>0</td>\n",
       "      <td>1</td>\n",
       "      <td>-0.3</td>\n",
       "      <td>365.0</td>\n",
       "      <td>0</td>\n",
       "    </tr>\n",
       "    <tr>\n",
       "      <th>3236</th>\n",
       "      <td>Tinashe</td>\n",
       "      <td>Aquarius</td>\n",
       "      <td>Meaghan Garvey</td>\n",
       "      <td>7.5</td>\n",
       "      <td>2014.0</td>\n",
       "      <td>October 9 2014</td>\n",
       "      <td>RCA</td>\n",
       "      <td>0.471111</td>\n",
       "      <td>0.470109</td>\n",
       "      <td>6.111111</td>\n",
       "      <td>...</td>\n",
       "      <td>0</td>\n",
       "      <td>0</td>\n",
       "      <td>0</td>\n",
       "      <td>1</td>\n",
       "      <td>0</td>\n",
       "      <td>0</td>\n",
       "      <td>1</td>\n",
       "      <td>-0.4</td>\n",
       "      <td>365.0</td>\n",
       "      <td>0</td>\n",
       "    </tr>\n",
       "    <tr>\n",
       "      <th>1538</th>\n",
       "      <td>King Kong</td>\n",
       "      <td>The Big Bang</td>\n",
       "      <td>Jason Nickey</td>\n",
       "      <td>6.2</td>\n",
       "      <td>2002.0</td>\n",
       "      <td>September 23 2002</td>\n",
       "      <td>Drag City</td>\n",
       "      <td>0.659333</td>\n",
       "      <td>0.749267</td>\n",
       "      <td>4.466667</td>\n",
       "      <td>...</td>\n",
       "      <td>0</td>\n",
       "      <td>0</td>\n",
       "      <td>0</td>\n",
       "      <td>0</td>\n",
       "      <td>0</td>\n",
       "      <td>0</td>\n",
       "      <td>1</td>\n",
       "      <td>-1.4</td>\n",
       "      <td>1825.0</td>\n",
       "      <td>0</td>\n",
       "    </tr>\n",
       "    <tr>\n",
       "      <th>275</th>\n",
       "      <td>Big Boi</td>\n",
       "      <td>Sir Lucious Left Foot: The Son of Chico Dusty</td>\n",
       "      <td>Tom Breihan</td>\n",
       "      <td>9.2</td>\n",
       "      <td>2010.0</td>\n",
       "      <td>July 6 2010</td>\n",
       "      <td>Def Jam</td>\n",
       "      <td>0.683400</td>\n",
       "      <td>0.740200</td>\n",
       "      <td>5.333333</td>\n",
       "      <td>...</td>\n",
       "      <td>0</td>\n",
       "      <td>0</td>\n",
       "      <td>0</td>\n",
       "      <td>0</td>\n",
       "      <td>1</td>\n",
       "      <td>0</td>\n",
       "      <td>1</td>\n",
       "      <td>-3.1</td>\n",
       "      <td>730.0</td>\n",
       "      <td>0</td>\n",
       "    </tr>\n",
       "    <tr>\n",
       "      <th>2522</th>\n",
       "      <td>Sean Nicholas Savage</td>\n",
       "      <td>Other Life</td>\n",
       "      <td>Jamieson Cox</td>\n",
       "      <td>7.4</td>\n",
       "      <td>2013.0</td>\n",
       "      <td>May 31 2013</td>\n",
       "      <td>Arbutus</td>\n",
       "      <td>0.410000</td>\n",
       "      <td>0.660091</td>\n",
       "      <td>4.727273</td>\n",
       "      <td>...</td>\n",
       "      <td>0</td>\n",
       "      <td>0</td>\n",
       "      <td>0</td>\n",
       "      <td>0</td>\n",
       "      <td>0</td>\n",
       "      <td>1</td>\n",
       "      <td>1</td>\n",
       "      <td>-0.4</td>\n",
       "      <td>365.0</td>\n",
       "      <td>0</td>\n",
       "    </tr>\n",
       "  </tbody>\n",
       "</table>\n",
       "<p>5 rows × 58 columns</p>\n",
       "</div>"
      ],
      "text/plain": [
       "                    artist                                    album_first  \\\n",
       "3158             The Thing                               The Cherry Thing   \n",
       "3236               Tinashe                                       Aquarius   \n",
       "1538             King Kong                                   The Big Bang   \n",
       "275                Big Boi  Sir Lucious Left Foot: The Son of Chico Dusty   \n",
       "2522  Sean Nicholas Savage                                     Other Life   \n",
       "\n",
       "     reviewauthor_first  score_first  releaseyear_first   reviewdate_first  \\\n",
       "3158     Lindsay Zoladz          8.0             2012.0       June 20 2012   \n",
       "3236     Meaghan Garvey          7.5             2014.0     October 9 2014   \n",
       "1538       Jason Nickey          6.2             2002.0  September 23 2002   \n",
       "275         Tom Breihan          9.2             2010.0        July 6 2010   \n",
       "2522       Jamieson Cox          7.4             2013.0        May 31 2013   \n",
       "\n",
       "         recordlabel_first  danceability_first  energy_first  key_first  ...  \\\n",
       "3158  Smalltown Supersound            0.344750      0.540000   5.750000  ...   \n",
       "3236                   RCA            0.471111      0.470109   6.111111  ...   \n",
       "1538             Drag City            0.659333      0.749267   4.466667  ...   \n",
       "275                Def Jam            0.683400      0.740200   5.333333  ...   \n",
       "2522               Arbutus            0.410000      0.660091   4.727273  ...   \n",
       "\n",
       "      Jazz_onehot_second  Metal_onehot_second  Other_onehot_second  \\\n",
       "3158                   1                    0                    0   \n",
       "3236                   0                    0                    0   \n",
       "1538                   0                    0                    0   \n",
       "275                    0                    0                    0   \n",
       "2522                   0                    0                    0   \n",
       "\n",
       "      Pop/R&B_onehot_second  Rap_onehot_second  Rock_onehot_second  \\\n",
       "3158                      0                  0                   0   \n",
       "3236                      1                  0                   0   \n",
       "1538                      0                  0                   0   \n",
       "275                       0                  1                   0   \n",
       "2522                      0                  0                   1   \n",
       "\n",
       "      album_number_second  score_diff  time_diff  did_style_change  \n",
       "3158                    1        -0.3      365.0                 0  \n",
       "3236                    1        -0.4      365.0                 0  \n",
       "1538                    1        -1.4     1825.0                 0  \n",
       "275                     1        -3.1      730.0                 0  \n",
       "2522                    1        -0.4      365.0                 0  \n",
       "\n",
       "[5 rows x 58 columns]"
      ]
     },
     "execution_count": 52,
     "metadata": {},
     "output_type": "execute_result"
    }
   ],
   "source": [
    "# Dataframe with the first and the second albums for each artist\n",
    "first_second_albums = pd.merge(first_albums, snd_albums, left_on=\"artist\", right_on=\"artist\", suffixes=(\"_first\", \"_second\"))\n",
    "# adding features score_diff, time_diff\n",
    "first_second_albums[\"score_diff\"] = first_second_albums[\"score_second\"] - first_second_albums[\"score_first\"]\n",
    "first_second_albums[\"time_diff\"] = (first_second_albums[\"releaseyear_second\"] - first_second_albums[\"releaseyear_first\"]) * 365\n",
    "# adding feature did_style_change\n",
    "from scipy.spatial.distance import seuclidean\n",
    "numerical_features=[\"key\", \"acousticness\", \"danceability\", \"energy\", \"instrumentalness\", \"liveness\", \"loudness\", \"speechiness\", \"valence\", \"tempo\"]\n",
    "numerical_first = [x + \"_first\" for x in numerical_features]\n",
    "numerical_second = [x + \"_second\" for x in numerical_features]\n",
    "diff_style = first_second_albums.apply(lambda x: seuclidean(x[numerical_first], x[numerical_second], np.ones(len(numerical_features))), axis=1)\n",
    "q80 = diff_style.quantile(0.8)\n",
    "first_second_albums[\"did_style_change\"] = (diff_style >= q80).astype(int)\n",
    "first_second_albums.sample(5)"
   ]
  },
  {
   "cell_type": "markdown",
   "metadata": {},
   "source": [
    "**Answer 6.2**"
   ]
  },
  {
   "cell_type": "code",
   "execution_count": 53,
   "metadata": {},
   "outputs": [
    {
     "name": "stdout",
     "output_type": "stream",
     "text": [
      "                            OLS Regression Results                            \n",
      "==============================================================================\n",
      "Dep. Variable:             score_diff   R-squared:                       0.000\n",
      "Model:                            OLS   Adj. R-squared:                  0.000\n",
      "Method:                 Least Squares   F-statistic:                       nan\n",
      "Date:                Fri, 26 Nov 2021   Prob (F-statistic):                nan\n",
      "Time:                        23:40:28   Log-Likelihood:                -6207.4\n",
      "No. Observations:                3564   AIC:                         1.242e+04\n",
      "Df Residuals:                    3563   BIC:                         1.242e+04\n",
      "Df Model:                           0                                         \n",
      "Covariance Type:            nonrobust                                         \n",
      "==============================================================================\n",
      "                 coef    std err          t      P>|t|      [0.025      0.975]\n",
      "------------------------------------------------------------------------------\n",
      "Intercept     -0.2556      0.023    -11.049      0.000      -0.301      -0.210\n",
      "==============================================================================\n",
      "Omnibus:                      362.324   Durbin-Watson:                   1.980\n",
      "Prob(Omnibus):                  0.000   Jarque-Bera (JB):             2244.623\n",
      "Skew:                          -0.266   Prob(JB):                         0.00\n",
      "Kurtosis:                       6.851   Cond. No.                         1.00\n",
      "==============================================================================\n",
      "\n",
      "Notes:\n",
      "[1] Standard Errors assume that the covariance matrix of the errors is correctly specified.\n"
     ]
    }
   ],
   "source": [
    "# Fitting a linear model with score-diff~1\n",
    "mod = smf.ols(formula='score_diff ~ 1', data=first_second_albums)\n",
    "np.random.seed(2)\n",
    "res = mod.fit()\n",
    "print(res.summary())"
   ]
  },
  {
   "cell_type": "markdown",
   "metadata": {},
   "source": [
    "**Answer 6.3 : Discuss** _Discuss: Interpret the  𝑅2  in your regression here. Does this analysis confirm what you observed in Task 5? Why?_"
   ]
  },
  {
   "cell_type": "markdown",
   "metadata": {},
   "source": [
    "According to Task 5, we noticed that the average score for the first and the second albums were significantly different. That is why a constant model is not well suited for our data. This also explains why we found a small value of R^2 (R^2 << 0), so this indeed confirms what we observed in task 5."
   ]
  },
  {
   "cell_type": "markdown",
   "metadata": {},
   "source": [
    "**Answer 6.4** _Create a new column called time_diff_standardized. It should be a standardized version of the time_diff column. Repeat the regression done in 6.4 using the time_diff_standardized column instead of the time_diff column._"
   ]
  },
  {
   "cell_type": "code",
   "execution_count": 54,
   "metadata": {},
   "outputs": [
    {
     "name": "stdout",
     "output_type": "stream",
     "text": [
      "                            OLS Regression Results                            \n",
      "==============================================================================\n",
      "Dep. Variable:             score_diff   R-squared:                       0.019\n",
      "Model:                            OLS   Adj. R-squared:                  0.018\n",
      "Method:                 Least Squares   F-statistic:                     33.57\n",
      "Date:                Fri, 26 Nov 2021   Prob (F-statistic):           3.60e-15\n",
      "Time:                        23:40:28   Log-Likelihood:                -6174.1\n",
      "No. Observations:                3564   AIC:                         1.235e+04\n",
      "Df Residuals:                    3561   BIC:                         1.237e+04\n",
      "Df Model:                           2                                         \n",
      "Covariance Type:            nonrobust                                         \n",
      "============================================================================================\n",
      "                               coef    std err          t      P>|t|      [0.025      0.975]\n",
      "--------------------------------------------------------------------------------------------\n",
      "Intercept                   -0.1443      0.030     -4.878      0.000      -0.202      -0.086\n",
      "C(did_style_change)[T.1]     0.0460      0.057      0.803      0.422      -0.066       0.158\n",
      "time_diff                -9.178e-05   1.13e-05     -8.154      0.000      -0.000   -6.97e-05\n",
      "==============================================================================\n",
      "Omnibus:                      334.937   Durbin-Watson:                   1.973\n",
      "Prob(Omnibus):                  0.000   Jarque-Bera (JB):             2067.092\n",
      "Skew:                          -0.202   Prob(JB):                         0.00\n",
      "Kurtosis:                       6.709   Cond. No.                     6.21e+03\n",
      "==============================================================================\n",
      "\n",
      "Notes:\n",
      "[1] Standard Errors assume that the covariance matrix of the errors is correctly specified.\n",
      "[2] The condition number is large, 6.21e+03. This might indicate that there are\n",
      "strong multicollinearity or other numerical problems.\n"
     ]
    }
   ],
   "source": [
    "# Fitting a linear model with time_change and did_style_change as covariates\n",
    "mod = smf.ols(formula='score_diff ~ time_diff + C(did_style_change)', data=first_second_albums)\n",
    "np.random.seed(2)\n",
    "res = mod.fit()\n",
    "print(res.summary())"
   ]
  },
  {
   "cell_type": "markdown",
   "metadata": {},
   "source": [
    "**Answer 6.5 : Discuss** Interpret the coefficients time_diff and did_style_change. Carefully explain whether they provide evidence towards each of the aforementioned hypotheses? Do they rule out other reasons that may cause the \"second album syndrome effect\"?"
   ]
  },
  {
   "cell_type": "markdown",
   "metadata": {},
   "source": [
    "Changing the style of music between the first and the second album doesn't have a significant positive or negative impact on the score of the second album (p-value of the categorical covariate did_style_change >> 0.05).\n",
    "Therefore, we cannot reject the hypothesis that listeners don't appreciate a second album with different music styles as much as the first album.\n",
    "On the other hand, the time spent on the second album (time_diff) seems to have a significant role on its quality (p-value of time_diff << 0.05).\n",
    "However, the estimated coefficient for time_diff is quite small compared to the estimated intercept (-9.178e-05 << -0.1443 = intercept).\n",
    "The reason for that is that we first need to standardize time_diff in order to have a proper interpretation of the magnitude of its coefficient in the linear regression.\n",
    "This is what we do in question 6.6.\n",
    "\n",
    "Given that this model only explains about 2% of the variability of the difference of scores between the first and the second albums (R^2 = 2%), we cannot rule out other reasons that may cause the \"second album syndrome effect\".  Maybe there exists other features that can be used to show if the \"second album syndrome effect\" exists."
   ]
  },
  {
   "cell_type": "markdown",
   "metadata": {},
   "source": [
    "**Answer 6.6**"
   ]
  },
  {
   "cell_type": "code",
   "execution_count": 55,
   "metadata": {
    "scrolled": true
   },
   "outputs": [
    {
     "name": "stdout",
     "output_type": "stream",
     "text": [
      "                            OLS Regression Results                            \n",
      "==============================================================================\n",
      "Dep. Variable:             score_diff   R-squared:                       0.019\n",
      "Model:                            OLS   Adj. R-squared:                  0.018\n",
      "Method:                 Least Squares   F-statistic:                     33.57\n",
      "Date:                Fri, 26 Nov 2021   Prob (F-statistic):           3.60e-15\n",
      "Time:                        23:40:28   Log-Likelihood:                -6174.1\n",
      "No. Observations:                3564   AIC:                         1.235e+04\n",
      "Df Residuals:                    3561   BIC:                         1.237e+04\n",
      "Df Model:                           2                                         \n",
      "Covariance Type:            nonrobust                                         \n",
      "============================================================================================\n",
      "                               coef    std err          t      P>|t|      [0.025      0.975]\n",
      "--------------------------------------------------------------------------------------------\n",
      "Intercept                   -0.2648      0.026    -10.331      0.000      -0.315      -0.215\n",
      "C(did_style_change)[T.1]     0.0460      0.057      0.803      0.422      -0.066       0.158\n",
      "time_diff_standardized      -0.1870      0.023     -8.154      0.000      -0.232      -0.142\n",
      "==============================================================================\n",
      "Omnibus:                      334.937   Durbin-Watson:                   1.973\n",
      "Prob(Omnibus):                  0.000   Jarque-Bera (JB):             2067.092\n",
      "Skew:                          -0.202   Prob(JB):                         0.00\n",
      "Kurtosis:                       6.709   Cond. No.                         2.62\n",
      "==============================================================================\n",
      "\n",
      "Notes:\n",
      "[1] Standard Errors assume that the covariance matrix of the errors is correctly specified.\n"
     ]
    }
   ],
   "source": [
    "# Standardized time_diff\n",
    "first_second_albums[\"time_diff_standardized\"] = (first_second_albums[\"time_diff\"] - first_second_albums[\"time_diff\"].mean()) / first_second_albums[\"time_diff\"].std()\n",
    "# Fitting a linear model using instead a standardized time_diff\n",
    "mod = smf.ols(formula='score_diff ~ time_diff_standardized + C(did_style_change)', data=first_second_albums)\n",
    "np.random.seed(2)\n",
    "res = mod.fit()\n",
    "print(res.summary())"
   ]
  },
  {
   "cell_type": "markdown",
   "metadata": {},
   "source": [
    "**Answer 6.7 : Discuss**"
   ]
  },
  {
   "cell_type": "markdown",
   "metadata": {},
   "source": [
    "We remark that the estimated coefficient and the p-value for the covariate did_style_change is the same as in question 6.4.\n",
    "This confirms the lack of information to give credit to the style change hypothesis.\n",
    "\n",
    "On the other hand, by standardizing the time spent to work on the second album, we found that the time spent on the second album still has a significant role (p-value << 0.5).\n",
    "In addition, this time, the estimated coefficient for time_diff_standardized is much bigger, giving credit to the time spent hypothesis."
   ]
  },
  {
   "cell_type": "markdown",
   "metadata": {
    "pycharm": {
     "name": "#%% md\n"
    }
   },
   "source": [
    "**Task 7 (Sanity checks — 6 pts)**\n",
    "\n",
    "You decide to perform a few last sanity checks for your analysis.\n",
    "\n",
    "1.  **Discuss:** If the Second Album Syndrome existed, i.e., something was special about the second album (as in if it was bad for a very particular reason that afflicted album number 2 more than all others), what would you expect to happen to the mean score of the third album?\n",
    "2. Using the dataset you created in Task 5, calculate the mean and the standard error of the mean for the 1st, 2nd, 3rd, and 4th albums. Test whether the difference between the average score of the second and the third album is statistically significant.\n",
    "3. **Discuss:** Does this suggest that the Second Album Syndrome exists?\n",
    "\n",
    "---\n"
   ]
  },
  {
   "cell_type": "markdown",
   "metadata": {},
   "source": [
    "**Answer 7.1 : Discuss**"
   ]
  },
  {
   "cell_type": "markdown",
   "metadata": {},
   "source": [
    "We would expect that for example the mean value of the score for the second album would be different (statistically different) from the mean value of the score of the other albums. Therefore we would expect the mean of the third album to be greater than the one of the second album."
   ]
  },
  {
   "cell_type": "markdown",
   "metadata": {},
   "source": [
    "**Answer 7.2**"
   ]
  },
  {
   "cell_type": "code",
   "execution_count": 56,
   "metadata": {
    "scrolled": true
   },
   "outputs": [
    {
     "name": "stdout",
     "output_type": "stream",
     "text": [
      "                  mean       std\n",
      "album_number                    \n",
      "0             7.298906  1.237607\n",
      "1             7.043294  1.271300\n",
      "2             7.044821  1.221931\n",
      "3             7.041766  1.224504\n",
      "mean of the mean score of the 1st to 4th album :  7.107196498234405\n",
      "correspoonding standard deviation:  0.12781223494372473\n"
     ]
    }
   ],
   "source": [
    "# First we group the dataframe from task 5 by album number (1st, 2nd, 3rd, and 4th albums),\n",
    "# while taking only the score column\n",
    "grouped_album = snd_album_df.groupby(snd_album_df.album_number)['score']\n",
    "# then we take the mean and standard deviation of each of album number \n",
    "# ( of all of the 1st albums for row 1 (album_number = 0))\n",
    "grouped_album_mean = grouped_album.describe()[['mean','std']]\n",
    "print(grouped_album_mean.iloc[0:4])\n",
    "\n",
    "# Finally we calculate the mean and standard deviation of the mean score value of the 1st to 4th ablums\n",
    "mean = grouped_album_mean['mean'].iloc[0:4].mean()\n",
    "std = grouped_album_mean['mean'].iloc[0:4].std()\n",
    "\n",
    "print('mean of the mean score of the 1st to 4th album : ',mean)\n",
    "print('correspoonding standard deviation: ',std)"
   ]
  },
  {
   "cell_type": "markdown",
   "metadata": {},
   "source": [
    "To test whether the difference between the average score of the second and the third album is statistically significant, we perform a t-test, assuming the data has a normal distribution."
   ]
  },
  {
   "cell_type": "code",
   "execution_count": 57,
   "metadata": {},
   "outputs": [],
   "source": [
    "import scipy.stats as stats"
   ]
  },
  {
   "cell_type": "code",
   "execution_count": 58,
   "metadata": {
    "scrolled": true
   },
   "outputs": [
    {
     "data": {
      "text/html": [
       "<div>\n",
       "<style scoped>\n",
       "    .dataframe tbody tr th:only-of-type {\n",
       "        vertical-align: middle;\n",
       "    }\n",
       "\n",
       "    .dataframe tbody tr th {\n",
       "        vertical-align: top;\n",
       "    }\n",
       "\n",
       "    .dataframe thead th {\n",
       "        text-align: right;\n",
       "    }\n",
       "</style>\n",
       "<table border=\"1\" class=\"dataframe\">\n",
       "  <thead>\n",
       "    <tr style=\"text-align: right;\">\n",
       "      <th></th>\n",
       "      <th>mean</th>\n",
       "      <th>std</th>\n",
       "    </tr>\n",
       "    <tr>\n",
       "      <th>album_number</th>\n",
       "      <th></th>\n",
       "      <th></th>\n",
       "    </tr>\n",
       "  </thead>\n",
       "  <tbody>\n",
       "    <tr>\n",
       "      <th>0</th>\n",
       "      <td>7.298906</td>\n",
       "      <td>1.237607</td>\n",
       "    </tr>\n",
       "    <tr>\n",
       "      <th>1</th>\n",
       "      <td>7.043294</td>\n",
       "      <td>1.271300</td>\n",
       "    </tr>\n",
       "    <tr>\n",
       "      <th>2</th>\n",
       "      <td>7.044821</td>\n",
       "      <td>1.221931</td>\n",
       "    </tr>\n",
       "    <tr>\n",
       "      <th>3</th>\n",
       "      <td>7.041766</td>\n",
       "      <td>1.224504</td>\n",
       "    </tr>\n",
       "    <tr>\n",
       "      <th>4</th>\n",
       "      <td>6.912656</td>\n",
       "      <td>1.272001</td>\n",
       "    </tr>\n",
       "  </tbody>\n",
       "</table>\n",
       "</div>"
      ],
      "text/plain": [
       "                  mean       std\n",
       "album_number                    \n",
       "0             7.298906  1.237607\n",
       "1             7.043294  1.271300\n",
       "2             7.044821  1.221931\n",
       "3             7.041766  1.224504\n",
       "4             6.912656  1.272001"
      ]
     },
     "execution_count": 58,
     "metadata": {},
     "output_type": "execute_result"
    }
   ],
   "source": [
    "grouped_album_mean.head()"
   ]
  },
  {
   "cell_type": "code",
   "execution_count": 59,
   "metadata": {},
   "outputs": [
    {
     "data": {
      "text/plain": [
       "Ttest_indResult(statistic=-0.04321339147644, pvalue=0.965532995457915)"
      ]
     },
     "execution_count": 59,
     "metadata": {},
     "output_type": "execute_result"
    }
   ],
   "source": [
    "stats.ttest_ind(grouped_album.get_group(1),grouped_album.get_group(2))"
   ]
  },
  {
   "cell_type": "markdown",
   "metadata": {},
   "source": [
    "**Answer 7.3 : Discuss** _Does this suggest that the Second Album Syndrome exists?_"
   ]
  },
  {
   "cell_type": "markdown",
   "metadata": {},
   "source": [
    "The p-value is 0.96 thus we cannot reject the null hypothesis and the difference is not significant. The null hypothesis being that the mean values of the second album is the same as the mean value of the third album. This therefore suggests that the second album syndrome doesn't exist."
   ]
  },
  {
   "cell_type": "markdown",
   "metadata": {},
   "source": [
    "**Task 8 (Eureka — 14 pts)**\n",
    "\n",
    "Your boss, *Signor Piccardi*, proposes that you carry out a simulation to make things clearer. Assuming that:\n",
    "\n",
    "\n",
    "- Each band $i$ has a \"talent\" $\\mu_i$ , which is uniformally distributed between 2 and 8, i.e., $\\mu_i \\sim U_{[2,8]}$.\n",
    "- When a band $i$ produces an album $j$, it has quality $s_j$. This score is normally distributed with mean $\\mu_i$ and standard deviation $1$, i.e., $s_j \\sim N(\\mu_i, 1)$\n",
    "- Talents are independent and identically distributed random variables.\n",
    " \n",
    "Carry out the following simulation:\n",
    "\n",
    "- Create 1000 hypothetical bands with intrinsic talents $\\mu_i \\sim U_{[2,8]}$ for $i \\in [1,1000]$.\n",
    "- Have each hypothetical band create a hypothetical album.\n",
    "- Discard all bands whose albums received a score smaller than 6.\n",
    "- For each of the remaining bands, create two additional albums.\n",
    "\n",
    "Analyzing the scores obtained in this simulation, provide a coherent explanation for the  scores obtained in Task 7.2. \n",
    "\n",
    "--- \n",
    "\n",
    "**Hint:** You can use numpy to sample random variables (e.g. [numpy.random.normal](https://numpy.org/doc/stable/reference/random/generated/numpy.random.normal.html))"
   ]
  },
  {
   "cell_type": "code",
   "execution_count": 60,
   "metadata": {},
   "outputs": [
    {
     "name": "stdout",
     "output_type": "stream",
     "text": [
      " _____ Run number  1 _____\n",
      "T test comparing the average score of the 2nd and 3rd ablum: pvalue = 0.24 , statistic -1.19 \n",
      " _____ Run number  2 _____\n",
      "T test comparing the average score of the 2nd and 3rd ablum: pvalue = 0.39 , statistic -0.86 \n",
      " _____ Run number  3 _____\n",
      "T test comparing the average score of the 2nd and 3rd ablum: pvalue = 0.93 , statistic -0.09 \n",
      " _____ Run number  4 _____\n",
      "T test comparing the average score of the 2nd and 3rd ablum: pvalue = 0.45 , statistic -0.75 \n",
      " _____ Run number  5 _____\n",
      "T test comparing the average score of the 2nd and 3rd ablum: pvalue = 0.21 , statistic 1.26 \n",
      " _____ Run number  6 _____\n",
      "T test comparing the average score of the 2nd and 3rd ablum: pvalue = 0.87 , statistic 0.16 \n",
      " _____ Run number  7 _____\n",
      "T test comparing the average score of the 2nd and 3rd ablum: pvalue = 0.78 , statistic -0.28 \n",
      " _____ Run number  8 _____\n",
      "T test comparing the average score of the 2nd and 3rd ablum: pvalue = 0.32 , statistic -1.00 \n",
      " _____ Run number  9 _____\n",
      "T test comparing the average score of the 2nd and 3rd ablum: pvalue = 0.69 , statistic 0.39 \n",
      " _____ Run number  10 _____\n",
      "T test comparing the average score of the 2nd and 3rd ablum: pvalue = 0.32 , statistic 1.00 \n"
     ]
    }
   ],
   "source": [
    "for i in range(10):\n",
    "    print( ' _____ Run number ', i+1 , '_____')\n",
    "    talent = np.random.uniform(2, 8, (1000, 1))\n",
    "    score1 = np.random.normal(talent, 1)\n",
    "    ind = talent >= 6\n",
    "    talent = talent[ind]\n",
    "    score1 = score1[ind]\n",
    "    score2 = np.random.normal(talent, 1)\n",
    "    score3 = np.random.normal(talent, 1)\n",
    "\n",
    "    df_sim = pd.DataFrame(np.array([talent, score1, score2, score3]).T, columns = ['Talent','ScoreAlbum1','ScoreAlbum2','ScoreAlbum3'])\n",
    "    df_sim.describe()\n",
    "    print('T test comparing the average score of the 2nd and 3rd ablum: pvalue = {:.2f} , statistic {:.2f} '.format(stats.ttest_ind(score3,score2)[1],stats.ttest_ind(score3,score2)[0]))"
   ]
  },
  {
   "cell_type": "markdown",
   "metadata": {},
   "source": [
    "The results of the simulation change from one run to another, but generally, we get a high pvalue when the null hypothesis is \" the mean value of the score for the 3rd and 2nd album is the same\". This indicates that we can't reject the null hypothesis. Thus we can only suggest that it doesn't exist, given that these results align with the results observed in Task 7 (and rejecting the null hypothesis doesn't approve the alternative hypothesis)."
   ]
  }
 ],
 "metadata": {
  "kernelspec": {
   "display_name": "Python 3",
   "language": "python",
   "name": "python3"
  },
  "language_info": {
   "codemirror_mode": {
    "name": "ipython",
    "version": 3
   },
   "file_extension": ".py",
   "mimetype": "text/x-python",
   "name": "python",
   "nbconvert_exporter": "python",
   "pygments_lexer": "ipython3",
   "version": "3.8.8"
  },
  "pycharm": {
   "stem_cell": {
    "cell_type": "raw",
    "metadata": {
     "collapsed": false
    },
    "source": []
   }
  }
 },
 "nbformat": 4,
 "nbformat_minor": 4
}
